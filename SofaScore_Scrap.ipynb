{
 "cells": [
  {
   "cell_type": "code",
   "execution_count": 39,
   "metadata": {
    "ExecuteTime": {
     "end_time": "2019-01-08T22:50:42.425122Z",
     "start_time": "2019-01-08T22:50:41.368725Z"
    }
   },
   "outputs": [],
   "source": [
    "import requests\n",
    "import json\n",
    "import pandas as pd\n",
    "import numpy as np\n",
    "from datetime import datetime\n",
    "from tqdm import tqdm_notebook\n",
    "import bs4\n",
    "import re\n",
    "import os"
   ]
  },
  {
   "cell_type": "code",
   "execution_count": 2,
   "metadata": {
    "ExecuteTime": {
     "end_time": "2019-01-08T22:57:55.314232Z",
     "start_time": "2019-01-08T22:57:55.306235Z"
    }
   },
   "outputs": [],
   "source": [
    "%load_ext autoreload\n",
    "%autoreload 2\n",
    "\n",
    "from sofa_score_scrap import *"
   ]
  },
  {
   "cell_type": "code",
   "execution_count": 3,
   "metadata": {},
   "outputs": [],
   "source": [
    "headers = {\n",
    "    \"User-Agent\": \"Mozilla/5.0 (Windows NT 10.0; Win64; x64) AppleWebKit/537.36 (KHTML, like Gecko) Chrome/71.0.3578.98 Safari/537.36\",\n",
    "    \"upgrade-insecure-requests\": '1',\n",
    "    \"Connection\": \"close\",    \n",
    "    \"accept\": \"text/html,application/xhtml+xml,application/xml;q=0.9,image/webp,image/apng,*/*;q=0.8\",\n",
    "    \"accept-language\": \"pt-BR,pt;q=0.9,en-US;q=0.8,en;q=0.7\",\n",
    "    \"cache-control\": \"max-age=0\"\n",
    "}"
   ]
  },
  {
   "cell_type": "markdown",
   "metadata": {},
   "source": [
    "### Players Stats "
   ]
  },
  {
   "cell_type": "code",
   "execution_count": 11,
   "metadata": {
    "ExecuteTime": {
     "end_time": "2019-01-02T23:10:13.567633Z",
     "start_time": "2019-01-02T23:09:30.390276Z"
    }
   },
   "outputs": [],
   "source": [
    "# s.get('https://www.sofascore.cddom/pt/atletico-mineiro-internacional/qOsCO', headers={'x-test2': 'true'})\n",
    "resp = requests.get(\"https://www.sofascore.com/event/7724681/statistics/players/json?_=154328071\", headers=headers)"
   ]
  },
  {
   "cell_type": "code",
   "execution_count": 12,
   "metadata": {
    "ExecuteTime": {
     "end_time": "2019-01-02T23:10:13.806466Z",
     "start_time": "2019-01-02T23:10:13.571602Z"
    }
   },
   "outputs": [],
   "source": [
    "players_df = pd.DataFrame(resp.json()[\"players\"])"
   ]
  },
  {
   "cell_type": "code",
   "execution_count": 13,
   "metadata": {
    "ExecuteTime": {
     "end_time": "2019-01-02T23:11:49.342027Z",
     "start_time": "2019-01-02T23:11:48.790135Z"
    },
    "scrolled": true
   },
   "outputs": [
    {
     "data": {
      "text/html": [
       "<div>\n",
       "<style scoped>\n",
       "    .dataframe tbody tr th:only-of-type {\n",
       "        vertical-align: middle;\n",
       "    }\n",
       "\n",
       "    .dataframe tbody tr th {\n",
       "        vertical-align: top;\n",
       "    }\n",
       "\n",
       "    .dataframe thead th {\n",
       "        text-align: right;\n",
       "    }\n",
       "</style>\n",
       "<table border=\"1\" class=\"dataframe\">\n",
       "  <thead>\n",
       "    <tr style=\"text-align: right;\">\n",
       "      <th></th>\n",
       "      <th>name</th>\n",
       "      <th>slug</th>\n",
       "      <th>shortName</th>\n",
       "      <th>id</th>\n",
       "      <th>national</th>\n",
       "      <th>team_name</th>\n",
       "      <th>team_id</th>\n",
       "      <th>goals</th>\n",
       "      <th>goalAssist</th>\n",
       "      <th>totalTackle</th>\n",
       "      <th>...</th>\n",
       "      <th>totalCross</th>\n",
       "      <th>totalLongBalls</th>\n",
       "      <th>dispossessed</th>\n",
       "      <th>wasFouled</th>\n",
       "      <th>fouls</th>\n",
       "      <th>saves</th>\n",
       "      <th>punches</th>\n",
       "      <th>runsOut</th>\n",
       "      <th>goodHighClaim</th>\n",
       "      <th>team</th>\n",
       "    </tr>\n",
       "    <tr>\n",
       "      <th>game</th>\n",
       "      <th></th>\n",
       "      <th></th>\n",
       "      <th></th>\n",
       "      <th></th>\n",
       "      <th></th>\n",
       "      <th></th>\n",
       "      <th></th>\n",
       "      <th></th>\n",
       "      <th></th>\n",
       "      <th></th>\n",
       "      <th></th>\n",
       "      <th></th>\n",
       "      <th></th>\n",
       "      <th></th>\n",
       "      <th></th>\n",
       "      <th></th>\n",
       "      <th></th>\n",
       "      <th></th>\n",
       "      <th></th>\n",
       "      <th></th>\n",
       "      <th></th>\n",
       "    </tr>\n",
       "  </thead>\n",
       "  <tbody>\n",
       "    <tr>\n",
       "      <th>INT X CAM 2018-11-21</th>\n",
       "      <td>Juan Cazares</td>\n",
       "      <td>atletico-mineiro</td>\n",
       "      <td>J. Cazares</td>\n",
       "      <td>158411</td>\n",
       "      <td>False</td>\n",
       "      <td>Atlético Mineiro</td>\n",
       "      <td>1977</td>\n",
       "      <td>1</td>\n",
       "      <td>1</td>\n",
       "      <td>0</td>\n",
       "      <td>...</td>\n",
       "      <td>8 (2)</td>\n",
       "      <td>2 (2)</td>\n",
       "      <td>2</td>\n",
       "      <td>1</td>\n",
       "      <td>2</td>\n",
       "      <td>NaN</td>\n",
       "      <td>NaN</td>\n",
       "      <td>NaN</td>\n",
       "      <td>NaN</td>\n",
       "      <td>CAM</td>\n",
       "    </tr>\n",
       "    <tr>\n",
       "      <th>INT X CAM 2018-11-21</th>\n",
       "      <td>Andrés D'Alessandro</td>\n",
       "      <td>internacional</td>\n",
       "      <td>A. D'Alessandro</td>\n",
       "      <td>17639</td>\n",
       "      <td>False</td>\n",
       "      <td>Internacional</td>\n",
       "      <td>1966</td>\n",
       "      <td>1</td>\n",
       "      <td></td>\n",
       "      <td>1</td>\n",
       "      <td>...</td>\n",
       "      <td>12 (3)</td>\n",
       "      <td>5 (2)</td>\n",
       "      <td>3</td>\n",
       "      <td>3</td>\n",
       "      <td>1</td>\n",
       "      <td>NaN</td>\n",
       "      <td>NaN</td>\n",
       "      <td>NaN</td>\n",
       "      <td>NaN</td>\n",
       "      <td>INT</td>\n",
       "    </tr>\n",
       "    <tr>\n",
       "      <th>INT X CAM 2018-11-21</th>\n",
       "      <td>Víctor Cuesta</td>\n",
       "      <td>internacional</td>\n",
       "      <td>V. Cuesta</td>\n",
       "      <td>587148</td>\n",
       "      <td>False</td>\n",
       "      <td>Internacional</td>\n",
       "      <td>1966</td>\n",
       "      <td></td>\n",
       "      <td></td>\n",
       "      <td>1</td>\n",
       "      <td>...</td>\n",
       "      <td>0 (0)</td>\n",
       "      <td>11 (7)</td>\n",
       "      <td>0</td>\n",
       "      <td>3</td>\n",
       "      <td>2</td>\n",
       "      <td>NaN</td>\n",
       "      <td>NaN</td>\n",
       "      <td>NaN</td>\n",
       "      <td>NaN</td>\n",
       "      <td>INT</td>\n",
       "    </tr>\n",
       "    <tr>\n",
       "      <th>INT X CAM 2018-11-21</th>\n",
       "      <td>David Terans</td>\n",
       "      <td>atletico-mineiro</td>\n",
       "      <td>D. Terans</td>\n",
       "      <td>586662</td>\n",
       "      <td>False</td>\n",
       "      <td>Atlético Mineiro</td>\n",
       "      <td>1977</td>\n",
       "      <td>1</td>\n",
       "      <td></td>\n",
       "      <td>1</td>\n",
       "      <td>...</td>\n",
       "      <td>1 (0)</td>\n",
       "      <td>2 (1)</td>\n",
       "      <td>0</td>\n",
       "      <td>0</td>\n",
       "      <td>1</td>\n",
       "      <td>NaN</td>\n",
       "      <td>NaN</td>\n",
       "      <td>NaN</td>\n",
       "      <td>NaN</td>\n",
       "      <td>CAM</td>\n",
       "    </tr>\n",
       "    <tr>\n",
       "      <th>INT X CAM 2018-11-21</th>\n",
       "      <td>Nico López</td>\n",
       "      <td>internacional</td>\n",
       "      <td>N. López</td>\n",
       "      <td>255881</td>\n",
       "      <td>False</td>\n",
       "      <td>Internacional</td>\n",
       "      <td>1966</td>\n",
       "      <td></td>\n",
       "      <td></td>\n",
       "      <td>0</td>\n",
       "      <td>...</td>\n",
       "      <td>5 (2)</td>\n",
       "      <td>7 (4)</td>\n",
       "      <td>1</td>\n",
       "      <td>1</td>\n",
       "      <td>1</td>\n",
       "      <td>NaN</td>\n",
       "      <td>NaN</td>\n",
       "      <td>NaN</td>\n",
       "      <td>NaN</td>\n",
       "      <td>INT</td>\n",
       "    </tr>\n",
       "    <tr>\n",
       "      <th>INT X CAM 2018-11-21</th>\n",
       "      <td>Patric</td>\n",
       "      <td>atletico-mineiro</td>\n",
       "      <td>Patric</td>\n",
       "      <td>78853</td>\n",
       "      <td>False</td>\n",
       "      <td>Atlético Mineiro</td>\n",
       "      <td>1977</td>\n",
       "      <td></td>\n",
       "      <td></td>\n",
       "      <td>4</td>\n",
       "      <td>...</td>\n",
       "      <td>2 (0)</td>\n",
       "      <td>8 (1)</td>\n",
       "      <td>2</td>\n",
       "      <td>1</td>\n",
       "      <td>1</td>\n",
       "      <td>NaN</td>\n",
       "      <td>NaN</td>\n",
       "      <td>NaN</td>\n",
       "      <td>NaN</td>\n",
       "      <td>CAM</td>\n",
       "    </tr>\n",
       "    <tr>\n",
       "      <th>INT X CAM 2018-11-21</th>\n",
       "      <td>Luan</td>\n",
       "      <td>atletico-mineiro</td>\n",
       "      <td>Luan</td>\n",
       "      <td>243427</td>\n",
       "      <td>False</td>\n",
       "      <td>Atlético Mineiro</td>\n",
       "      <td>1977</td>\n",
       "      <td></td>\n",
       "      <td></td>\n",
       "      <td>4</td>\n",
       "      <td>...</td>\n",
       "      <td>2 (0)</td>\n",
       "      <td>1 (0)</td>\n",
       "      <td>0</td>\n",
       "      <td>1</td>\n",
       "      <td>4</td>\n",
       "      <td>NaN</td>\n",
       "      <td>NaN</td>\n",
       "      <td>NaN</td>\n",
       "      <td>NaN</td>\n",
       "      <td>CAM</td>\n",
       "    </tr>\n",
       "    <tr>\n",
       "      <th>INT X CAM 2018-11-21</th>\n",
       "      <td>Emerson Santos</td>\n",
       "      <td>internacional</td>\n",
       "      <td>E. Santos</td>\n",
       "      <td>844015</td>\n",
       "      <td>False</td>\n",
       "      <td>Internacional</td>\n",
       "      <td>1966</td>\n",
       "      <td></td>\n",
       "      <td></td>\n",
       "      <td>2</td>\n",
       "      <td>...</td>\n",
       "      <td>0 (0)</td>\n",
       "      <td>4 (2)</td>\n",
       "      <td>1</td>\n",
       "      <td>0</td>\n",
       "      <td>0</td>\n",
       "      <td>NaN</td>\n",
       "      <td>NaN</td>\n",
       "      <td>NaN</td>\n",
       "      <td>NaN</td>\n",
       "      <td>INT</td>\n",
       "    </tr>\n",
       "    <tr>\n",
       "      <th>INT X CAM 2018-11-21</th>\n",
       "      <td>Fabiano</td>\n",
       "      <td>internacional</td>\n",
       "      <td>F. Leismann</td>\n",
       "      <td>551304</td>\n",
       "      <td>False</td>\n",
       "      <td>Internacional</td>\n",
       "      <td>1966</td>\n",
       "      <td></td>\n",
       "      <td></td>\n",
       "      <td>2</td>\n",
       "      <td>...</td>\n",
       "      <td>6 (0)</td>\n",
       "      <td>5 (2)</td>\n",
       "      <td>0</td>\n",
       "      <td>0</td>\n",
       "      <td>2</td>\n",
       "      <td>NaN</td>\n",
       "      <td>NaN</td>\n",
       "      <td>NaN</td>\n",
       "      <td>NaN</td>\n",
       "      <td>INT</td>\n",
       "    </tr>\n",
       "    <tr>\n",
       "      <th>INT X CAM 2018-11-21</th>\n",
       "      <td>Rodrigo Dourado</td>\n",
       "      <td>internacional</td>\n",
       "      <td>R. Dourado</td>\n",
       "      <td>269089</td>\n",
       "      <td>False</td>\n",
       "      <td>Internacional</td>\n",
       "      <td>1966</td>\n",
       "      <td></td>\n",
       "      <td></td>\n",
       "      <td>4</td>\n",
       "      <td>...</td>\n",
       "      <td>0 (0)</td>\n",
       "      <td>3 (1)</td>\n",
       "      <td>0</td>\n",
       "      <td>2</td>\n",
       "      <td>2</td>\n",
       "      <td>NaN</td>\n",
       "      <td>NaN</td>\n",
       "      <td>NaN</td>\n",
       "      <td>NaN</td>\n",
       "      <td>INT</td>\n",
       "    </tr>\n",
       "    <tr>\n",
       "      <th>INT X CAM 2018-11-21</th>\n",
       "      <td>Yimmi Chará</td>\n",
       "      <td>atletico-mineiro</td>\n",
       "      <td>Y. Chará</td>\n",
       "      <td>248069</td>\n",
       "      <td>False</td>\n",
       "      <td>Atlético Mineiro</td>\n",
       "      <td>1977</td>\n",
       "      <td></td>\n",
       "      <td>1</td>\n",
       "      <td>2</td>\n",
       "      <td>...</td>\n",
       "      <td>0 (0)</td>\n",
       "      <td>3 (2)</td>\n",
       "      <td>2</td>\n",
       "      <td>2</td>\n",
       "      <td>0</td>\n",
       "      <td>NaN</td>\n",
       "      <td>NaN</td>\n",
       "      <td>NaN</td>\n",
       "      <td>NaN</td>\n",
       "      <td>CAM</td>\n",
       "    </tr>\n",
       "    <tr>\n",
       "      <th>INT X CAM 2018-11-21</th>\n",
       "      <td>Matheus Galdezani</td>\n",
       "      <td>atletico-mineiro</td>\n",
       "      <td>M. Galdezani</td>\n",
       "      <td>797476</td>\n",
       "      <td>False</td>\n",
       "      <td>Atlético Mineiro</td>\n",
       "      <td>1977</td>\n",
       "      <td></td>\n",
       "      <td></td>\n",
       "      <td>1</td>\n",
       "      <td>...</td>\n",
       "      <td>0 (0)</td>\n",
       "      <td>3 (2)</td>\n",
       "      <td>2</td>\n",
       "      <td>0</td>\n",
       "      <td>2</td>\n",
       "      <td>NaN</td>\n",
       "      <td>NaN</td>\n",
       "      <td>NaN</td>\n",
       "      <td>NaN</td>\n",
       "      <td>CAM</td>\n",
       "    </tr>\n",
       "    <tr>\n",
       "      <th>INT X CAM 2018-11-21</th>\n",
       "      <td>Adilson</td>\n",
       "      <td>atletico-mineiro</td>\n",
       "      <td>Adilson</td>\n",
       "      <td>39618</td>\n",
       "      <td>False</td>\n",
       "      <td>Atlético Mineiro</td>\n",
       "      <td>1977</td>\n",
       "      <td></td>\n",
       "      <td></td>\n",
       "      <td>0</td>\n",
       "      <td>...</td>\n",
       "      <td>0 (0)</td>\n",
       "      <td>3 (1)</td>\n",
       "      <td>0</td>\n",
       "      <td>1</td>\n",
       "      <td>1</td>\n",
       "      <td>NaN</td>\n",
       "      <td>NaN</td>\n",
       "      <td>NaN</td>\n",
       "      <td>NaN</td>\n",
       "      <td>CAM</td>\n",
       "    </tr>\n",
       "    <tr>\n",
       "      <th>INT X CAM 2018-11-21</th>\n",
       "      <td>Edenilson</td>\n",
       "      <td>internacional</td>\n",
       "      <td>Edenilson</td>\n",
       "      <td>221636</td>\n",
       "      <td>False</td>\n",
       "      <td>Internacional</td>\n",
       "      <td>1966</td>\n",
       "      <td></td>\n",
       "      <td></td>\n",
       "      <td>1</td>\n",
       "      <td>...</td>\n",
       "      <td>3 (1)</td>\n",
       "      <td>5 (3)</td>\n",
       "      <td>4</td>\n",
       "      <td>2</td>\n",
       "      <td>0</td>\n",
       "      <td>NaN</td>\n",
       "      <td>NaN</td>\n",
       "      <td>NaN</td>\n",
       "      <td>NaN</td>\n",
       "      <td>INT</td>\n",
       "    </tr>\n",
       "    <tr>\n",
       "      <th>INT X CAM 2018-11-21</th>\n",
       "      <td>Leandro Damião</td>\n",
       "      <td>internacional</td>\n",
       "      <td>L. Damião</td>\n",
       "      <td>108485</td>\n",
       "      <td>False</td>\n",
       "      <td>Internacional</td>\n",
       "      <td>1966</td>\n",
       "      <td></td>\n",
       "      <td></td>\n",
       "      <td>0</td>\n",
       "      <td>...</td>\n",
       "      <td>0 (0)</td>\n",
       "      <td>0 (0)</td>\n",
       "      <td>1</td>\n",
       "      <td>2</td>\n",
       "      <td>0</td>\n",
       "      <td>NaN</td>\n",
       "      <td>NaN</td>\n",
       "      <td>NaN</td>\n",
       "      <td>NaN</td>\n",
       "      <td>INT</td>\n",
       "    </tr>\n",
       "    <tr>\n",
       "      <th>INT X CAM 2018-11-21</th>\n",
       "      <td>Leonardo Silva</td>\n",
       "      <td>atletico-mineiro</td>\n",
       "      <td>L. Silva</td>\n",
       "      <td>47749</td>\n",
       "      <td>False</td>\n",
       "      <td>Atlético Mineiro</td>\n",
       "      <td>1977</td>\n",
       "      <td></td>\n",
       "      <td></td>\n",
       "      <td>1</td>\n",
       "      <td>...</td>\n",
       "      <td>0 (0)</td>\n",
       "      <td>7 (1)</td>\n",
       "      <td>0</td>\n",
       "      <td>0</td>\n",
       "      <td>1</td>\n",
       "      <td>NaN</td>\n",
       "      <td>NaN</td>\n",
       "      <td>NaN</td>\n",
       "      <td>NaN</td>\n",
       "      <td>CAM</td>\n",
       "    </tr>\n",
       "    <tr>\n",
       "      <th>INT X CAM 2018-11-21</th>\n",
       "      <td>Patrick</td>\n",
       "      <td>internacional</td>\n",
       "      <td>Patrick</td>\n",
       "      <td>594428</td>\n",
       "      <td>False</td>\n",
       "      <td>Internacional</td>\n",
       "      <td>1966</td>\n",
       "      <td></td>\n",
       "      <td></td>\n",
       "      <td>1</td>\n",
       "      <td>...</td>\n",
       "      <td>1 (0)</td>\n",
       "      <td>1 (0)</td>\n",
       "      <td>1</td>\n",
       "      <td>2</td>\n",
       "      <td>1</td>\n",
       "      <td>NaN</td>\n",
       "      <td>NaN</td>\n",
       "      <td>NaN</td>\n",
       "      <td>NaN</td>\n",
       "      <td>INT</td>\n",
       "    </tr>\n",
       "    <tr>\n",
       "      <th>INT X CAM 2018-11-21</th>\n",
       "      <td>Lucas Candido</td>\n",
       "      <td>atletico-mineiro</td>\n",
       "      <td>L. Candido</td>\n",
       "      <td>334713</td>\n",
       "      <td>False</td>\n",
       "      <td>Atlético Mineiro</td>\n",
       "      <td>1977</td>\n",
       "      <td></td>\n",
       "      <td></td>\n",
       "      <td>4</td>\n",
       "      <td>...</td>\n",
       "      <td>0 (0)</td>\n",
       "      <td>2 (1)</td>\n",
       "      <td>2</td>\n",
       "      <td>0</td>\n",
       "      <td>0</td>\n",
       "      <td>NaN</td>\n",
       "      <td>NaN</td>\n",
       "      <td>NaN</td>\n",
       "      <td>NaN</td>\n",
       "      <td>CAM</td>\n",
       "    </tr>\n",
       "    <tr>\n",
       "      <th>INT X CAM 2018-11-21</th>\n",
       "      <td>Alerrandro</td>\n",
       "      <td>atletico-mineiro</td>\n",
       "      <td>Alerrandro</td>\n",
       "      <td>923948</td>\n",
       "      <td>False</td>\n",
       "      <td>Atlético Mineiro</td>\n",
       "      <td>1977</td>\n",
       "      <td></td>\n",
       "      <td></td>\n",
       "      <td>1</td>\n",
       "      <td>...</td>\n",
       "      <td>0 (0)</td>\n",
       "      <td>2 (0)</td>\n",
       "      <td>1</td>\n",
       "      <td>1</td>\n",
       "      <td>1</td>\n",
       "      <td>NaN</td>\n",
       "      <td>NaN</td>\n",
       "      <td>NaN</td>\n",
       "      <td>NaN</td>\n",
       "      <td>CAM</td>\n",
       "    </tr>\n",
       "    <tr>\n",
       "      <th>INT X CAM 2018-11-21</th>\n",
       "      <td>Juan</td>\n",
       "      <td>internacional</td>\n",
       "      <td>Juan</td>\n",
       "      <td>875906</td>\n",
       "      <td>False</td>\n",
       "      <td>Internacional</td>\n",
       "      <td>1966</td>\n",
       "      <td></td>\n",
       "      <td></td>\n",
       "      <td>1</td>\n",
       "      <td>...</td>\n",
       "      <td>0 (0)</td>\n",
       "      <td>1 (0)</td>\n",
       "      <td>1</td>\n",
       "      <td>0</td>\n",
       "      <td>0</td>\n",
       "      <td>NaN</td>\n",
       "      <td>NaN</td>\n",
       "      <td>NaN</td>\n",
       "      <td>NaN</td>\n",
       "      <td>INT</td>\n",
       "    </tr>\n",
       "    <tr>\n",
       "      <th>INT X CAM 2018-11-21</th>\n",
       "      <td>Emerson</td>\n",
       "      <td>atletico-mineiro</td>\n",
       "      <td>Emerson</td>\n",
       "      <td>856123</td>\n",
       "      <td>False</td>\n",
       "      <td>Atlético Mineiro</td>\n",
       "      <td>1977</td>\n",
       "      <td></td>\n",
       "      <td></td>\n",
       "      <td>3</td>\n",
       "      <td>...</td>\n",
       "      <td>2 (0)</td>\n",
       "      <td>3 (0)</td>\n",
       "      <td>1</td>\n",
       "      <td>2</td>\n",
       "      <td>1</td>\n",
       "      <td>NaN</td>\n",
       "      <td>NaN</td>\n",
       "      <td>NaN</td>\n",
       "      <td>NaN</td>\n",
       "      <td>CAM</td>\n",
       "    </tr>\n",
       "    <tr>\n",
       "      <th>INT X CAM 2018-11-21</th>\n",
       "      <td>Camilo</td>\n",
       "      <td>internacional</td>\n",
       "      <td>Camilo</td>\n",
       "      <td>345609</td>\n",
       "      <td>False</td>\n",
       "      <td>Internacional</td>\n",
       "      <td>1966</td>\n",
       "      <td></td>\n",
       "      <td></td>\n",
       "      <td>1</td>\n",
       "      <td>...</td>\n",
       "      <td>4 (1)</td>\n",
       "      <td>0 (0)</td>\n",
       "      <td>3</td>\n",
       "      <td>0</td>\n",
       "      <td>0</td>\n",
       "      <td>NaN</td>\n",
       "      <td>NaN</td>\n",
       "      <td>NaN</td>\n",
       "      <td>NaN</td>\n",
       "      <td>INT</td>\n",
       "    </tr>\n",
       "    <tr>\n",
       "      <th>INT X CAM 2018-11-21</th>\n",
       "      <td>Rossi</td>\n",
       "      <td>internacional</td>\n",
       "      <td>Rossi</td>\n",
       "      <td>243425</td>\n",
       "      <td>False</td>\n",
       "      <td>Internacional</td>\n",
       "      <td>1966</td>\n",
       "      <td></td>\n",
       "      <td></td>\n",
       "      <td>0</td>\n",
       "      <td>...</td>\n",
       "      <td>2 (1)</td>\n",
       "      <td>1 (1)</td>\n",
       "      <td>0</td>\n",
       "      <td>0</td>\n",
       "      <td>1</td>\n",
       "      <td>NaN</td>\n",
       "      <td>NaN</td>\n",
       "      <td>NaN</td>\n",
       "      <td>NaN</td>\n",
       "      <td>INT</td>\n",
       "    </tr>\n",
       "    <tr>\n",
       "      <th>INT X CAM 2018-11-21</th>\n",
       "      <td>Ricardo Oliveira</td>\n",
       "      <td>atletico-mineiro</td>\n",
       "      <td>R. Oliveira</td>\n",
       "      <td>2099</td>\n",
       "      <td>False</td>\n",
       "      <td>Atlético Mineiro</td>\n",
       "      <td>1977</td>\n",
       "      <td></td>\n",
       "      <td></td>\n",
       "      <td>0</td>\n",
       "      <td>...</td>\n",
       "      <td>0 (0)</td>\n",
       "      <td>0 (0)</td>\n",
       "      <td>2</td>\n",
       "      <td>0</td>\n",
       "      <td>2</td>\n",
       "      <td>NaN</td>\n",
       "      <td>NaN</td>\n",
       "      <td>NaN</td>\n",
       "      <td>NaN</td>\n",
       "      <td>CAM</td>\n",
       "    </tr>\n",
       "    <tr>\n",
       "      <th>INT X CAM 2018-11-21</th>\n",
       "      <td>Iago</td>\n",
       "      <td>internacional</td>\n",
       "      <td>Iago</td>\n",
       "      <td>869644</td>\n",
       "      <td>False</td>\n",
       "      <td>Internacional</td>\n",
       "      <td>1966</td>\n",
       "      <td></td>\n",
       "      <td></td>\n",
       "      <td>2</td>\n",
       "      <td>...</td>\n",
       "      <td>3 (0)</td>\n",
       "      <td>11 (4)</td>\n",
       "      <td>2</td>\n",
       "      <td>0</td>\n",
       "      <td>0</td>\n",
       "      <td>NaN</td>\n",
       "      <td>NaN</td>\n",
       "      <td>NaN</td>\n",
       "      <td>NaN</td>\n",
       "      <td>INT</td>\n",
       "    </tr>\n",
       "    <tr>\n",
       "      <th>INT X CAM 2018-11-21</th>\n",
       "      <td>Victor</td>\n",
       "      <td>atletico-mineiro</td>\n",
       "      <td>Victor</td>\n",
       "      <td>39418</td>\n",
       "      <td>False</td>\n",
       "      <td>Atlético Mineiro</td>\n",
       "      <td>1977</td>\n",
       "      <td></td>\n",
       "      <td></td>\n",
       "      <td>0</td>\n",
       "      <td>...</td>\n",
       "      <td>0 (0)</td>\n",
       "      <td>22 (5)</td>\n",
       "      <td>0</td>\n",
       "      <td>0</td>\n",
       "      <td>0</td>\n",
       "      <td>1</td>\n",
       "      <td>0</td>\n",
       "      <td>0 (0)</td>\n",
       "      <td>0</td>\n",
       "      <td>CAM</td>\n",
       "    </tr>\n",
       "    <tr>\n",
       "      <th>INT X CAM 2018-11-21</th>\n",
       "      <td>Marcelo Lomba</td>\n",
       "      <td>internacional</td>\n",
       "      <td>M. Lomba</td>\n",
       "      <td>34141</td>\n",
       "      <td>False</td>\n",
       "      <td>Internacional</td>\n",
       "      <td>1966</td>\n",
       "      <td></td>\n",
       "      <td></td>\n",
       "      <td>0</td>\n",
       "      <td>...</td>\n",
       "      <td>0 (0)</td>\n",
       "      <td>11 (7)</td>\n",
       "      <td>0</td>\n",
       "      <td>0</td>\n",
       "      <td>0</td>\n",
       "      <td>0</td>\n",
       "      <td>0</td>\n",
       "      <td>0 (0)</td>\n",
       "      <td>0</td>\n",
       "      <td>INT</td>\n",
       "    </tr>\n",
       "    <tr>\n",
       "      <th>INT X CAM 2018-11-21</th>\n",
       "      <td>Iago Maidana</td>\n",
       "      <td>atletico-mineiro</td>\n",
       "      <td>I. Maidana</td>\n",
       "      <td>599686</td>\n",
       "      <td>False</td>\n",
       "      <td>Atlético Mineiro</td>\n",
       "      <td>1977</td>\n",
       "      <td></td>\n",
       "      <td></td>\n",
       "      <td>0</td>\n",
       "      <td>...</td>\n",
       "      <td>0 (0)</td>\n",
       "      <td>2 (0)</td>\n",
       "      <td>0</td>\n",
       "      <td>0</td>\n",
       "      <td>1</td>\n",
       "      <td>NaN</td>\n",
       "      <td>NaN</td>\n",
       "      <td>NaN</td>\n",
       "      <td>NaN</td>\n",
       "      <td>CAM</td>\n",
       "    </tr>\n",
       "  </tbody>\n",
       "</table>\n",
       "<p>28 rows × 36 columns</p>\n",
       "</div>"
      ],
      "text/plain": [
       "                                     name              slug        shortName  \\\n",
       "game                                                                           \n",
       "INT X CAM 2018-11-21         Juan Cazares  atletico-mineiro       J. Cazares   \n",
       "INT X CAM 2018-11-21  Andrés D'Alessandro     internacional  A. D'Alessandro   \n",
       "INT X CAM 2018-11-21        Víctor Cuesta     internacional        V. Cuesta   \n",
       "INT X CAM 2018-11-21         David Terans  atletico-mineiro        D. Terans   \n",
       "INT X CAM 2018-11-21           Nico López     internacional         N. López   \n",
       "INT X CAM 2018-11-21               Patric  atletico-mineiro           Patric   \n",
       "INT X CAM 2018-11-21                 Luan  atletico-mineiro             Luan   \n",
       "INT X CAM 2018-11-21       Emerson Santos     internacional        E. Santos   \n",
       "INT X CAM 2018-11-21              Fabiano     internacional      F. Leismann   \n",
       "INT X CAM 2018-11-21      Rodrigo Dourado     internacional       R. Dourado   \n",
       "INT X CAM 2018-11-21          Yimmi Chará  atletico-mineiro         Y. Chará   \n",
       "INT X CAM 2018-11-21    Matheus Galdezani  atletico-mineiro     M. Galdezani   \n",
       "INT X CAM 2018-11-21              Adilson  atletico-mineiro          Adilson   \n",
       "INT X CAM 2018-11-21            Edenilson     internacional        Edenilson   \n",
       "INT X CAM 2018-11-21       Leandro Damião     internacional        L. Damião   \n",
       "INT X CAM 2018-11-21       Leonardo Silva  atletico-mineiro         L. Silva   \n",
       "INT X CAM 2018-11-21              Patrick     internacional          Patrick   \n",
       "INT X CAM 2018-11-21        Lucas Candido  atletico-mineiro       L. Candido   \n",
       "INT X CAM 2018-11-21           Alerrandro  atletico-mineiro       Alerrandro   \n",
       "INT X CAM 2018-11-21                 Juan     internacional             Juan   \n",
       "INT X CAM 2018-11-21              Emerson  atletico-mineiro          Emerson   \n",
       "INT X CAM 2018-11-21               Camilo     internacional           Camilo   \n",
       "INT X CAM 2018-11-21                Rossi     internacional            Rossi   \n",
       "INT X CAM 2018-11-21     Ricardo Oliveira  atletico-mineiro      R. Oliveira   \n",
       "INT X CAM 2018-11-21                 Iago     internacional             Iago   \n",
       "INT X CAM 2018-11-21               Victor  atletico-mineiro           Victor   \n",
       "INT X CAM 2018-11-21        Marcelo Lomba     internacional         M. Lomba   \n",
       "INT X CAM 2018-11-21         Iago Maidana  atletico-mineiro       I. Maidana   \n",
       "\n",
       "                          id  national         team_name  team_id goals  \\\n",
       "game                                                                      \n",
       "INT X CAM 2018-11-21  158411     False  Atlético Mineiro     1977     1   \n",
       "INT X CAM 2018-11-21   17639     False     Internacional     1966     1   \n",
       "INT X CAM 2018-11-21  587148     False     Internacional     1966         \n",
       "INT X CAM 2018-11-21  586662     False  Atlético Mineiro     1977     1   \n",
       "INT X CAM 2018-11-21  255881     False     Internacional     1966         \n",
       "INT X CAM 2018-11-21   78853     False  Atlético Mineiro     1977         \n",
       "INT X CAM 2018-11-21  243427     False  Atlético Mineiro     1977         \n",
       "INT X CAM 2018-11-21  844015     False     Internacional     1966         \n",
       "INT X CAM 2018-11-21  551304     False     Internacional     1966         \n",
       "INT X CAM 2018-11-21  269089     False     Internacional     1966         \n",
       "INT X CAM 2018-11-21  248069     False  Atlético Mineiro     1977         \n",
       "INT X CAM 2018-11-21  797476     False  Atlético Mineiro     1977         \n",
       "INT X CAM 2018-11-21   39618     False  Atlético Mineiro     1977         \n",
       "INT X CAM 2018-11-21  221636     False     Internacional     1966         \n",
       "INT X CAM 2018-11-21  108485     False     Internacional     1966         \n",
       "INT X CAM 2018-11-21   47749     False  Atlético Mineiro     1977         \n",
       "INT X CAM 2018-11-21  594428     False     Internacional     1966         \n",
       "INT X CAM 2018-11-21  334713     False  Atlético Mineiro     1977         \n",
       "INT X CAM 2018-11-21  923948     False  Atlético Mineiro     1977         \n",
       "INT X CAM 2018-11-21  875906     False     Internacional     1966         \n",
       "INT X CAM 2018-11-21  856123     False  Atlético Mineiro     1977         \n",
       "INT X CAM 2018-11-21  345609     False     Internacional     1966         \n",
       "INT X CAM 2018-11-21  243425     False     Internacional     1966         \n",
       "INT X CAM 2018-11-21    2099     False  Atlético Mineiro     1977         \n",
       "INT X CAM 2018-11-21  869644     False     Internacional     1966         \n",
       "INT X CAM 2018-11-21   39418     False  Atlético Mineiro     1977         \n",
       "INT X CAM 2018-11-21   34141     False     Internacional     1966         \n",
       "INT X CAM 2018-11-21  599686     False  Atlético Mineiro     1977         \n",
       "\n",
       "                     goalAssist totalTackle  ... totalCross totalLongBalls  \\\n",
       "game                                         ...                             \n",
       "INT X CAM 2018-11-21          1           0  ...      8 (2)          2 (2)   \n",
       "INT X CAM 2018-11-21                      1  ...     12 (3)          5 (2)   \n",
       "INT X CAM 2018-11-21                      1  ...      0 (0)         11 (7)   \n",
       "INT X CAM 2018-11-21                      1  ...      1 (0)          2 (1)   \n",
       "INT X CAM 2018-11-21                      0  ...      5 (2)          7 (4)   \n",
       "INT X CAM 2018-11-21                      4  ...      2 (0)          8 (1)   \n",
       "INT X CAM 2018-11-21                      4  ...      2 (0)          1 (0)   \n",
       "INT X CAM 2018-11-21                      2  ...      0 (0)          4 (2)   \n",
       "INT X CAM 2018-11-21                      2  ...      6 (0)          5 (2)   \n",
       "INT X CAM 2018-11-21                      4  ...      0 (0)          3 (1)   \n",
       "INT X CAM 2018-11-21          1           2  ...      0 (0)          3 (2)   \n",
       "INT X CAM 2018-11-21                      1  ...      0 (0)          3 (2)   \n",
       "INT X CAM 2018-11-21                      0  ...      0 (0)          3 (1)   \n",
       "INT X CAM 2018-11-21                      1  ...      3 (1)          5 (3)   \n",
       "INT X CAM 2018-11-21                      0  ...      0 (0)          0 (0)   \n",
       "INT X CAM 2018-11-21                      1  ...      0 (0)          7 (1)   \n",
       "INT X CAM 2018-11-21                      1  ...      1 (0)          1 (0)   \n",
       "INT X CAM 2018-11-21                      4  ...      0 (0)          2 (1)   \n",
       "INT X CAM 2018-11-21                      1  ...      0 (0)          2 (0)   \n",
       "INT X CAM 2018-11-21                      1  ...      0 (0)          1 (0)   \n",
       "INT X CAM 2018-11-21                      3  ...      2 (0)          3 (0)   \n",
       "INT X CAM 2018-11-21                      1  ...      4 (1)          0 (0)   \n",
       "INT X CAM 2018-11-21                      0  ...      2 (1)          1 (1)   \n",
       "INT X CAM 2018-11-21                      0  ...      0 (0)          0 (0)   \n",
       "INT X CAM 2018-11-21                      2  ...      3 (0)         11 (4)   \n",
       "INT X CAM 2018-11-21                      0  ...      0 (0)         22 (5)   \n",
       "INT X CAM 2018-11-21                      0  ...      0 (0)         11 (7)   \n",
       "INT X CAM 2018-11-21                      0  ...      0 (0)          2 (0)   \n",
       "\n",
       "                     dispossessed wasFouled fouls saves punches runsOut  \\\n",
       "game                                                                      \n",
       "INT X CAM 2018-11-21            2         1     2   NaN     NaN     NaN   \n",
       "INT X CAM 2018-11-21            3         3     1   NaN     NaN     NaN   \n",
       "INT X CAM 2018-11-21            0         3     2   NaN     NaN     NaN   \n",
       "INT X CAM 2018-11-21            0         0     1   NaN     NaN     NaN   \n",
       "INT X CAM 2018-11-21            1         1     1   NaN     NaN     NaN   \n",
       "INT X CAM 2018-11-21            2         1     1   NaN     NaN     NaN   \n",
       "INT X CAM 2018-11-21            0         1     4   NaN     NaN     NaN   \n",
       "INT X CAM 2018-11-21            1         0     0   NaN     NaN     NaN   \n",
       "INT X CAM 2018-11-21            0         0     2   NaN     NaN     NaN   \n",
       "INT X CAM 2018-11-21            0         2     2   NaN     NaN     NaN   \n",
       "INT X CAM 2018-11-21            2         2     0   NaN     NaN     NaN   \n",
       "INT X CAM 2018-11-21            2         0     2   NaN     NaN     NaN   \n",
       "INT X CAM 2018-11-21            0         1     1   NaN     NaN     NaN   \n",
       "INT X CAM 2018-11-21            4         2     0   NaN     NaN     NaN   \n",
       "INT X CAM 2018-11-21            1         2     0   NaN     NaN     NaN   \n",
       "INT X CAM 2018-11-21            0         0     1   NaN     NaN     NaN   \n",
       "INT X CAM 2018-11-21            1         2     1   NaN     NaN     NaN   \n",
       "INT X CAM 2018-11-21            2         0     0   NaN     NaN     NaN   \n",
       "INT X CAM 2018-11-21            1         1     1   NaN     NaN     NaN   \n",
       "INT X CAM 2018-11-21            1         0     0   NaN     NaN     NaN   \n",
       "INT X CAM 2018-11-21            1         2     1   NaN     NaN     NaN   \n",
       "INT X CAM 2018-11-21            3         0     0   NaN     NaN     NaN   \n",
       "INT X CAM 2018-11-21            0         0     1   NaN     NaN     NaN   \n",
       "INT X CAM 2018-11-21            2         0     2   NaN     NaN     NaN   \n",
       "INT X CAM 2018-11-21            2         0     0   NaN     NaN     NaN   \n",
       "INT X CAM 2018-11-21            0         0     0     1       0   0 (0)   \n",
       "INT X CAM 2018-11-21            0         0     0     0       0   0 (0)   \n",
       "INT X CAM 2018-11-21            0         0     1   NaN     NaN     NaN   \n",
       "\n",
       "                     goodHighClaim team  \n",
       "game                                     \n",
       "INT X CAM 2018-11-21           NaN  CAM  \n",
       "INT X CAM 2018-11-21           NaN  INT  \n",
       "INT X CAM 2018-11-21           NaN  INT  \n",
       "INT X CAM 2018-11-21           NaN  CAM  \n",
       "INT X CAM 2018-11-21           NaN  INT  \n",
       "INT X CAM 2018-11-21           NaN  CAM  \n",
       "INT X CAM 2018-11-21           NaN  CAM  \n",
       "INT X CAM 2018-11-21           NaN  INT  \n",
       "INT X CAM 2018-11-21           NaN  INT  \n",
       "INT X CAM 2018-11-21           NaN  INT  \n",
       "INT X CAM 2018-11-21           NaN  CAM  \n",
       "INT X CAM 2018-11-21           NaN  CAM  \n",
       "INT X CAM 2018-11-21           NaN  CAM  \n",
       "INT X CAM 2018-11-21           NaN  INT  \n",
       "INT X CAM 2018-11-21           NaN  INT  \n",
       "INT X CAM 2018-11-21           NaN  CAM  \n",
       "INT X CAM 2018-11-21           NaN  INT  \n",
       "INT X CAM 2018-11-21           NaN  CAM  \n",
       "INT X CAM 2018-11-21           NaN  CAM  \n",
       "INT X CAM 2018-11-21           NaN  INT  \n",
       "INT X CAM 2018-11-21           NaN  CAM  \n",
       "INT X CAM 2018-11-21           NaN  INT  \n",
       "INT X CAM 2018-11-21           NaN  INT  \n",
       "INT X CAM 2018-11-21           NaN  CAM  \n",
       "INT X CAM 2018-11-21           NaN  INT  \n",
       "INT X CAM 2018-11-21             0  CAM  \n",
       "INT X CAM 2018-11-21             0  INT  \n",
       "INT X CAM 2018-11-21           NaN  CAM  \n",
       "\n",
       "[28 rows x 36 columns]"
      ]
     },
     "execution_count": 13,
     "metadata": {},
     "output_type": "execute_result"
    }
   ],
   "source": [
    "get_per_player_data(players_df)"
   ]
  },
  {
   "cell_type": "markdown",
   "metadata": {},
   "source": [
    "### Game Stats"
   ]
  },
  {
   "cell_type": "code",
   "execution_count": 14,
   "metadata": {
    "ExecuteTime": {
     "end_time": "2019-01-08T00:28:34.453000Z",
     "start_time": "2019-01-08T00:27:51.367495Z"
    }
   },
   "outputs": [],
   "source": [
    "resp = requests.get(\"https://www.sofascore.com/event/7724681/general/json\", headers=headers)"
   ]
  },
  {
   "cell_type": "code",
   "execution_count": 16,
   "metadata": {
    "ExecuteTime": {
     "end_time": "2019-01-08T00:29:17.677497Z",
     "start_time": "2019-01-08T00:29:17.254539Z"
    }
   },
   "outputs": [
    {
     "data": {
      "text/html": [
       "<div>\n",
       "<style scoped>\n",
       "    .dataframe tbody tr th:only-of-type {\n",
       "        vertical-align: middle;\n",
       "    }\n",
       "\n",
       "    .dataframe tbody tr th {\n",
       "        vertical-align: top;\n",
       "    }\n",
       "\n",
       "    .dataframe thead th {\n",
       "        text-align: right;\n",
       "    }\n",
       "</style>\n",
       "<table border=\"1\" class=\"dataframe\">\n",
       "  <thead>\n",
       "    <tr style=\"text-align: right;\">\n",
       "      <th></th>\n",
       "      <th>team_away</th>\n",
       "      <th>team_home</th>\n",
       "      <th>data</th>\n",
       "      <th>hora</th>\n",
       "      <th>away_score</th>\n",
       "      <th>home_score</th>\n",
       "      <th>result</th>\n",
       "      <th>Ball possession_home</th>\n",
       "      <th>Ball possession_away</th>\n",
       "      <th>Total shots_home</th>\n",
       "      <th>...</th>\n",
       "      <th>form_minute_82</th>\n",
       "      <th>form_minute_83</th>\n",
       "      <th>form_minute_84</th>\n",
       "      <th>form_minute_85</th>\n",
       "      <th>form_minute_86</th>\n",
       "      <th>form_minute_87</th>\n",
       "      <th>form_minute_88</th>\n",
       "      <th>form_minute_89</th>\n",
       "      <th>form_minute_90</th>\n",
       "      <th>form_minute_90.5</th>\n",
       "    </tr>\n",
       "    <tr>\n",
       "      <th>game</th>\n",
       "      <th></th>\n",
       "      <th></th>\n",
       "      <th></th>\n",
       "      <th></th>\n",
       "      <th></th>\n",
       "      <th></th>\n",
       "      <th></th>\n",
       "      <th></th>\n",
       "      <th></th>\n",
       "      <th></th>\n",
       "      <th></th>\n",
       "      <th></th>\n",
       "      <th></th>\n",
       "      <th></th>\n",
       "      <th></th>\n",
       "      <th></th>\n",
       "      <th></th>\n",
       "      <th></th>\n",
       "      <th></th>\n",
       "      <th></th>\n",
       "      <th></th>\n",
       "    </tr>\n",
       "  </thead>\n",
       "  <tbody>\n",
       "    <tr>\n",
       "      <th>INT X CAM 2018-11-21</th>\n",
       "      <td>CAM</td>\n",
       "      <td>INT</td>\n",
       "      <td>2018-11-21</td>\n",
       "      <td>19:30:00</td>\n",
       "      <td>2</td>\n",
       "      <td>1</td>\n",
       "      <td>-1</td>\n",
       "      <td>54%</td>\n",
       "      <td>46%</td>\n",
       "      <td>15</td>\n",
       "      <td>...</td>\n",
       "      <td>22</td>\n",
       "      <td>73</td>\n",
       "      <td>41</td>\n",
       "      <td>24</td>\n",
       "      <td>1</td>\n",
       "      <td>1</td>\n",
       "      <td>63</td>\n",
       "      <td>29</td>\n",
       "      <td>28</td>\n",
       "      <td>-49</td>\n",
       "    </tr>\n",
       "  </tbody>\n",
       "</table>\n",
       "<p>1 rows × 153 columns</p>\n",
       "</div>"
      ],
      "text/plain": [
       "                     team_away team_home        data      hora  away_score  \\\n",
       "game                                                                         \n",
       "INT X CAM 2018-11-21       CAM       INT  2018-11-21  19:30:00           2   \n",
       "\n",
       "                      home_score  result Ball possession_home  \\\n",
       "game                                                            \n",
       "INT X CAM 2018-11-21           1      -1                  54%   \n",
       "\n",
       "                     Ball possession_away Total shots_home  ...  \\\n",
       "game                                                        ...   \n",
       "INT X CAM 2018-11-21                  46%               15  ...   \n",
       "\n",
       "                     form_minute_82 form_minute_83 form_minute_84  \\\n",
       "game                                                                \n",
       "INT X CAM 2018-11-21             22             73             41   \n",
       "\n",
       "                     form_minute_85 form_minute_86 form_minute_87  \\\n",
       "game                                                                \n",
       "INT X CAM 2018-11-21             24              1              1   \n",
       "\n",
       "                     form_minute_88 form_minute_89 form_minute_90  \\\n",
       "game                                                                \n",
       "INT X CAM 2018-11-21             63             29             28   \n",
       "\n",
       "                     form_minute_90.5  \n",
       "game                                   \n",
       "INT X CAM 2018-11-21              -49  \n",
       "\n",
       "[1 rows x 153 columns]"
      ]
     },
     "execution_count": 16,
     "metadata": {},
     "output_type": "execute_result"
    }
   ],
   "source": [
    "pd.DataFrame(game_statistics(resp, players_df), index=[0]).set_index(\"game\")"
   ]
  },
  {
   "cell_type": "markdown",
   "metadata": {},
   "source": [
    "### Pega links dos jogos históricos"
   ]
  },
  {
   "cell_type": "markdown",
   "metadata": {},
   "source": [
    "#### Pega os IDs das temporadas"
   ]
  },
  {
   "cell_type": "code",
   "execution_count": 4,
   "metadata": {},
   "outputs": [],
   "source": [
    "# comp = requests.get(\"https://www.sofascore.com/pt/torneio/futebol/brazil/brasileiro-serie-a/325\")\n",
    "comp = requests.get(\"https://www.sofascore.com/pt/torneio/futebol/england/premier-league/17\", headers=headers)\n",
    "c = bs4.BeautifulSoup(comp.content)"
   ]
  },
  {
   "cell_type": "code",
   "execution_count": 5,
   "metadata": {
    "ExecuteTime": {
     "end_time": "2019-01-03T00:55:08.620736Z",
     "start_time": "2019-01-03T00:55:08.417831Z"
    }
   },
   "outputs": [
    {
     "data": {
      "text/plain": [
       "[('19/20', '23776'),\n",
       " ('18/19', '17359'),\n",
       " ('17/18', '13380'),\n",
       " ('16/17', '11733'),\n",
       " ('15/16', '10356'),\n",
       " ('14/15', '8186'),\n",
       " ('13/14', '6311'),\n",
       " ('12/13', '4710'),\n",
       " ('11/12', '3391'),\n",
       " ('10/11', '2746'),\n",
       " ('09/10', '2139'),\n",
       " ('08/09', '1544'),\n",
       " ('07/08', '581'),\n",
       " ('06/07', '4'),\n",
       " ('05/06', '3'),\n",
       " ('04/05', '2'),\n",
       " ('03/04', '1'),\n",
       " ('02/03', '46'),\n",
       " ('01/02', '47'),\n",
       " ('00/01', '48'),\n",
       " ('99/00', '49'),\n",
       " ('98/99', '50'),\n",
       " ('97/98', '51'),\n",
       " ('92/93', '13043')]"
      ]
     },
     "execution_count": 5,
     "metadata": {},
     "output_type": "execute_result"
    }
   ],
   "source": [
    "temporadas = c.find_all(\"a\", attrs={\"class\":\"pointer js-uniqueTournament-page-load-season\"})\n",
    "\n",
    "id_temporada = [(a.text.strip(), a.attrs[\"data-season-id\"]) for a in temporadas]\n",
    "id_temporada"
   ]
  },
  {
   "cell_type": "code",
   "execution_count": 23,
   "metadata": {},
   "outputs": [],
   "source": [
    "r = bs4.BeautifulSoup(resp.text)"
   ]
  },
  {
   "cell_type": "code",
   "execution_count": 24,
   "metadata": {},
   "outputs": [],
   "source": [
    "r = resp.json()"
   ]
  },
  {
   "cell_type": "code",
   "execution_count": 25,
   "metadata": {},
   "outputs": [
    {
     "ename": "KeyError",
     "evalue": "'roundMatches'",
     "output_type": "error",
     "traceback": [
      "\u001b[0;31m---------------------------------------------------------------------------\u001b[0m",
      "\u001b[0;31mKeyError\u001b[0m                                  Traceback (most recent call last)",
      "\u001b[0;32m<ipython-input-25-38546540389e>\u001b[0m in \u001b[0;36m<module>\u001b[0;34m\u001b[0m\n\u001b[1;32m      1\u001b[0m \u001b[0mteams\u001b[0m \u001b[0;34m=\u001b[0m \u001b[0mset\u001b[0m\u001b[0;34m(\u001b[0m\u001b[0;34m)\u001b[0m\u001b[0;34m\u001b[0m\u001b[0;34m\u001b[0m\u001b[0m\n\u001b[1;32m      2\u001b[0m \u001b[0;34m\u001b[0m\u001b[0m\n\u001b[0;32m----> 3\u001b[0;31m \u001b[0;32mfor\u001b[0m \u001b[0mx\u001b[0m \u001b[0;32min\u001b[0m \u001b[0mr\u001b[0m\u001b[0;34m[\u001b[0m\u001b[0;34m\"roundMatches\"\u001b[0m\u001b[0;34m]\u001b[0m\u001b[0;34m[\u001b[0m\u001b[0;34m\"tournaments\"\u001b[0m\u001b[0;34m]\u001b[0m\u001b[0;34m:\u001b[0m\u001b[0;34m\u001b[0m\u001b[0;34m\u001b[0m\u001b[0m\n\u001b[0m\u001b[1;32m      4\u001b[0m     \u001b[0;32mfor\u001b[0m \u001b[0my\u001b[0m \u001b[0;32min\u001b[0m \u001b[0mx\u001b[0m\u001b[0;34m[\u001b[0m\u001b[0;34m\"events\"\u001b[0m\u001b[0;34m]\u001b[0m\u001b[0;34m:\u001b[0m\u001b[0;34m\u001b[0m\u001b[0;34m\u001b[0m\u001b[0m\n\u001b[1;32m      5\u001b[0m         \u001b[0mteams\u001b[0m\u001b[0;34m.\u001b[0m\u001b[0madd\u001b[0m\u001b[0;34m(\u001b[0m\u001b[0my\u001b[0m\u001b[0;34m[\u001b[0m\u001b[0;34m\"homeTeam\"\u001b[0m\u001b[0;34m]\u001b[0m\u001b[0;34m[\u001b[0m\u001b[0;34m\"name\"\u001b[0m\u001b[0;34m]\u001b[0m\u001b[0;34m)\u001b[0m\u001b[0;34m\u001b[0m\u001b[0;34m\u001b[0m\u001b[0m\n",
      "\u001b[0;31mKeyError\u001b[0m: 'roundMatches'"
     ]
    }
   ],
   "source": [
    "teams = set()\n",
    "\n",
    "for x in r[\"roundMatches\"][\"tournaments\"]:\n",
    "    for y in x[\"events\"]:\n",
    "        teams.add(y[\"homeTeam\"][\"name\"])\n",
    "        teams.add(y[\"awayTeam\"][\"name\"])\n",
    "\n",
    "teams"
   ]
  },
  {
   "cell_type": "markdown",
   "metadata": {},
   "source": [
    "#### Dê/Para de Siglas"
   ]
  },
  {
   "cell_type": "code",
   "execution_count": 91,
   "metadata": {
    "ExecuteTime": {
     "end_time": "2019-01-08T01:09:58.821295Z",
     "start_time": "2019-01-08T01:09:58.803287Z"
    }
   },
   "outputs": [],
   "source": [
    "de_para_siglas = pd.read_excel(\"de_para_siglas_epl.xlsx\")\n",
    "de_para_siglas[\"time\"] = de_para_siglas[\"time\"].astype(str)\n",
    "de_para_siglas[\"time\"] = de_para_siglas[\"time\"].apply(str.strip)\n",
    "de_para_siglas.set_index(\"time\", inplace=True)"
   ]
  },
  {
   "cell_type": "markdown",
   "metadata": {},
   "source": [
    "## Pega Links dos jogos por Rodadas"
   ]
  },
  {
   "cell_type": "markdown",
   "metadata": {},
   "source": [
    "#### Página Inicial"
   ]
  },
  {
   "cell_type": "code",
   "execution_count": 36,
   "metadata": {
    "ExecuteTime": {
     "end_time": "2019-01-08T00:14:36.515462Z",
     "start_time": "2019-01-08T00:13:53.577168Z"
    }
   },
   "outputs": [
    {
     "data": {
      "text/plain": [
       "<Response [200]>"
      ]
     },
     "execution_count": 36,
     "metadata": {},
     "output_type": "execute_result"
    }
   ],
   "source": [
    "s = requests.Session()\n",
    "s.get(comp.url, headers=headers)"
   ]
  },
  {
   "cell_type": "markdown",
   "metadata": {},
   "source": [
    "#### Para cada temporada"
   ]
  },
  {
   "cell_type": "code",
   "execution_count": 112,
   "metadata": {},
   "outputs": [
    {
     "data": {
      "text/plain": [
       "[('19/20', '23776'),\n",
       " ('18/19', '17359'),\n",
       " ('17/18', '13380'),\n",
       " ('16/17', '11733'),\n",
       " ('15/16', '10356'),\n",
       " ('14/15', '8186'),\n",
       " ('13/14', '6311'),\n",
       " ('12/13', '4710'),\n",
       " ('11/12', '3391'),\n",
       " ('10/11', '2746'),\n",
       " ('09/10', '2139'),\n",
       " ('08/09', '1544'),\n",
       " ('07/08', '581'),\n",
       " ('06/07', '4'),\n",
       " ('05/06', '3'),\n",
       " ('04/05', '2'),\n",
       " ('03/04', '1')]"
      ]
     },
     "execution_count": 112,
     "metadata": {},
     "output_type": "execute_result"
    }
   ],
   "source": [
    "id_temporada[:17]"
   ]
  },
  {
   "cell_type": "code",
   "execution_count": 116,
   "metadata": {},
   "outputs": [],
   "source": [
    "games = resp.json()['roundMatches'][\"tournaments\"][0]['events']"
   ]
  },
  {
   "cell_type": "code",
   "execution_count": 121,
   "metadata": {
    "ExecuteTime": {
     "end_time": "2019-01-08T00:38:13.703682Z",
     "start_time": "2019-01-08T00:34:58.452476Z"
    },
    "scrolled": true
   },
   "outputs": [
    {
     "data": {
      "application/vnd.jupyter.widget-view+json": {
       "model_id": "afd88d0a857a43378b1c8147ff85f719",
       "version_major": 2,
       "version_minor": 0
      },
      "text/plain": [
       "HBox(children=(IntProgress(value=0, max=38), HTML(value='')))"
      ]
     },
     "metadata": {},
     "output_type": "display_data"
    },
    {
     "name": "stdout",
     "output_type": "stream",
     "text": [
      "\n"
     ]
    },
    {
     "data": {
      "application/vnd.jupyter.widget-view+json": {
       "model_id": "b09ca4f0b511427b8fb82096199488a2",
       "version_major": 2,
       "version_minor": 0
      },
      "text/plain": [
       "HBox(children=(IntProgress(value=0, max=38), HTML(value='')))"
      ]
     },
     "metadata": {},
     "output_type": "display_data"
    },
    {
     "name": "stdout",
     "output_type": "stream",
     "text": [
      "\n"
     ]
    },
    {
     "data": {
      "application/vnd.jupyter.widget-view+json": {
       "model_id": "73b03bc2cf4d4c3eb3384a4e57ea1a6d",
       "version_major": 2,
       "version_minor": 0
      },
      "text/plain": [
       "HBox(children=(IntProgress(value=0, max=38), HTML(value='')))"
      ]
     },
     "metadata": {},
     "output_type": "display_data"
    },
    {
     "name": "stdout",
     "output_type": "stream",
     "text": [
      "\n"
     ]
    },
    {
     "data": {
      "application/vnd.jupyter.widget-view+json": {
       "model_id": "6d2805dec02546699f04889a1b206d6e",
       "version_major": 2,
       "version_minor": 0
      },
      "text/plain": [
       "HBox(children=(IntProgress(value=0, max=38), HTML(value='')))"
      ]
     },
     "metadata": {},
     "output_type": "display_data"
    },
    {
     "name": "stdout",
     "output_type": "stream",
     "text": [
      "\n"
     ]
    },
    {
     "data": {
      "application/vnd.jupyter.widget-view+json": {
       "model_id": "3f984eed79404b1bb742e0643058cc6d",
       "version_major": 2,
       "version_minor": 0
      },
      "text/plain": [
       "HBox(children=(IntProgress(value=0, max=38), HTML(value='')))"
      ]
     },
     "metadata": {},
     "output_type": "display_data"
    },
    {
     "name": "stdout",
     "output_type": "stream",
     "text": [
      "\n"
     ]
    },
    {
     "data": {
      "application/vnd.jupyter.widget-view+json": {
       "model_id": "6c86725b56894e6fa849d6dd53db0e85",
       "version_major": 2,
       "version_minor": 0
      },
      "text/plain": [
       "HBox(children=(IntProgress(value=0, max=38), HTML(value='')))"
      ]
     },
     "metadata": {},
     "output_type": "display_data"
    },
    {
     "name": "stdout",
     "output_type": "stream",
     "text": [
      "\n"
     ]
    },
    {
     "data": {
      "application/vnd.jupyter.widget-view+json": {
       "model_id": "80cfe7afe8d2452595c4ca4357f2df5a",
       "version_major": 2,
       "version_minor": 0
      },
      "text/plain": [
       "HBox(children=(IntProgress(value=0, max=38), HTML(value='')))"
      ]
     },
     "metadata": {},
     "output_type": "display_data"
    },
    {
     "name": "stdout",
     "output_type": "stream",
     "text": [
      "\n"
     ]
    },
    {
     "data": {
      "application/vnd.jupyter.widget-view+json": {
       "model_id": "da29df23ec4f48669251e5e9148e5dad",
       "version_major": 2,
       "version_minor": 0
      },
      "text/plain": [
       "HBox(children=(IntProgress(value=0, max=38), HTML(value='')))"
      ]
     },
     "metadata": {},
     "output_type": "display_data"
    },
    {
     "name": "stdout",
     "output_type": "stream",
     "text": [
      "\n"
     ]
    },
    {
     "data": {
      "application/vnd.jupyter.widget-view+json": {
       "model_id": "52d7b88909224f21923033db9c74d859",
       "version_major": 2,
       "version_minor": 0
      },
      "text/plain": [
       "HBox(children=(IntProgress(value=0, max=38), HTML(value='')))"
      ]
     },
     "metadata": {},
     "output_type": "display_data"
    },
    {
     "name": "stdout",
     "output_type": "stream",
     "text": [
      "\n"
     ]
    },
    {
     "data": {
      "application/vnd.jupyter.widget-view+json": {
       "model_id": "e28dd19aa9bf40a89436664df2655e8b",
       "version_major": 2,
       "version_minor": 0
      },
      "text/plain": [
       "HBox(children=(IntProgress(value=0, max=38), HTML(value='')))"
      ]
     },
     "metadata": {},
     "output_type": "display_data"
    },
    {
     "name": "stdout",
     "output_type": "stream",
     "text": [
      "\n"
     ]
    },
    {
     "data": {
      "application/vnd.jupyter.widget-view+json": {
       "model_id": "a81677561f804390bc23276effc84d9f",
       "version_major": 2,
       "version_minor": 0
      },
      "text/plain": [
       "HBox(children=(IntProgress(value=0, max=38), HTML(value='')))"
      ]
     },
     "metadata": {},
     "output_type": "display_data"
    },
    {
     "name": "stdout",
     "output_type": "stream",
     "text": [
      "\n"
     ]
    },
    {
     "data": {
      "application/vnd.jupyter.widget-view+json": {
       "model_id": "3c1631ba40d94d9b8d0d7bd13376ca99",
       "version_major": 2,
       "version_minor": 0
      },
      "text/plain": [
       "HBox(children=(IntProgress(value=0, max=38), HTML(value='')))"
      ]
     },
     "metadata": {},
     "output_type": "display_data"
    },
    {
     "name": "stdout",
     "output_type": "stream",
     "text": [
      "\n"
     ]
    },
    {
     "data": {
      "application/vnd.jupyter.widget-view+json": {
       "model_id": "1e9dc4455c3d403c91b1cb61c5a69997",
       "version_major": 2,
       "version_minor": 0
      },
      "text/plain": [
       "HBox(children=(IntProgress(value=0, max=38), HTML(value='')))"
      ]
     },
     "metadata": {},
     "output_type": "display_data"
    },
    {
     "name": "stdout",
     "output_type": "stream",
     "text": [
      "\n"
     ]
    },
    {
     "data": {
      "application/vnd.jupyter.widget-view+json": {
       "model_id": "920e9a855a1646229705f772357127bd",
       "version_major": 2,
       "version_minor": 0
      },
      "text/plain": [
       "HBox(children=(IntProgress(value=0, max=38), HTML(value='')))"
      ]
     },
     "metadata": {},
     "output_type": "display_data"
    },
    {
     "name": "stdout",
     "output_type": "stream",
     "text": [
      "\n"
     ]
    },
    {
     "data": {
      "application/vnd.jupyter.widget-view+json": {
       "model_id": "0844442b446b45bca31fd40edacd52d9",
       "version_major": 2,
       "version_minor": 0
      },
      "text/plain": [
       "HBox(children=(IntProgress(value=0, max=38), HTML(value='')))"
      ]
     },
     "metadata": {},
     "output_type": "display_data"
    },
    {
     "name": "stdout",
     "output_type": "stream",
     "text": [
      "\n"
     ]
    },
    {
     "data": {
      "application/vnd.jupyter.widget-view+json": {
       "model_id": "7c5b56ada7ac436faf18fd73fa148bc9",
       "version_major": 2,
       "version_minor": 0
      },
      "text/plain": [
       "HBox(children=(IntProgress(value=0, max=38), HTML(value='')))"
      ]
     },
     "metadata": {},
     "output_type": "display_data"
    },
    {
     "name": "stdout",
     "output_type": "stream",
     "text": [
      "\n"
     ]
    },
    {
     "data": {
      "application/vnd.jupyter.widget-view+json": {
       "model_id": "55eb0d980dad47e1812d5681a3d945ab",
       "version_major": 2,
       "version_minor": 0
      },
      "text/plain": [
       "HBox(children=(IntProgress(value=0, max=38), HTML(value='')))"
      ]
     },
     "metadata": {},
     "output_type": "display_data"
    },
    {
     "name": "stdout",
     "output_type": "stream",
     "text": [
      "\n"
     ]
    }
   ],
   "source": [
    "for temp in id_temporada[:17]:\n",
    "    ret = []\n",
    "    \n",
    "    for rodada in tqdm_notebook(range(1, 39)):\n",
    "        # print(temp[0] + \": \" + str(rodada), end=\"\\r\")\n",
    "        resp = s.get(\"https://www.sofascore.com/u-tournament/17/season/\"+ temp[1] + \"/matches/round/\" + str(rodada), headers=headers)\n",
    "        resp.encoding = 'UTF-8'\n",
    "        ret.append(get_info_rodada(resp, de_para_siglas))\n",
    "    \n",
    "    ret = pd.concat(ret)\n",
    "    ret.to_csv(\"links_sofa_score/sofa_score_links_EPL_\"+temp[0].replace(\"/\", \"_\")+\".csv\", sep=\";\")"
   ]
  },
  {
   "cell_type": "markdown",
   "metadata": {},
   "source": [
    "### Pega informações dos jogos históricos"
   ]
  },
  {
   "cell_type": "code",
   "execution_count": 124,
   "metadata": {
    "ExecuteTime": {
     "end_time": "2019-01-08T00:40:13.317902Z",
     "start_time": "2019-01-08T00:40:13.115990Z"
    }
   },
   "outputs": [],
   "source": [
    "base = pd.read_csv(\"links_sofa_score/sofa_score_links_EPL_18_19.csv\", sep=\";\")"
   ]
  },
  {
   "cell_type": "code",
   "execution_count": 53,
   "metadata": {
    "ExecuteTime": {
     "end_time": "2019-01-08T23:45:24.001952Z",
     "start_time": "2019-01-08T23:44:41.082084Z"
    }
   },
   "outputs": [
    {
     "data": {
      "text/plain": [
       "<Response [200]>"
      ]
     },
     "execution_count": 53,
     "metadata": {},
     "output_type": "execute_result"
    }
   ],
   "source": [
    "s = requests.Session()\n",
    "s.get('https://www.sofascore.com/pt/torneio/futebol/brazil/brasileiro-serie-a/325')"
   ]
  },
  {
   "cell_type": "code",
   "execution_count": 130,
   "metadata": {
    "ExecuteTime": {
     "end_time": "2019-01-08T23:44:25.266002Z",
     "start_time": "2019-01-08T23:44:25.077112Z"
    }
   },
   "outputs": [
    {
     "data": {
      "text/plain": [
       "['sofa_score_links_EPL_18_19.csv',\n",
       " 'sofa_score_links_EPL_17_18.csv',\n",
       " 'sofa_score_links_EPL_16_17.csv',\n",
       " 'sofa_score_links_EPL_15_16.csv',\n",
       " 'sofa_score_links_EPL_14_15.csv',\n",
       " 'sofa_score_links_EPL_13_14.csv',\n",
       " 'sofa_score_links_EPL_12_13.csv',\n",
       " 'sofa_score_links_EPL_11_12.csv',\n",
       " 'sofa_score_links_EPL_10_11.csv',\n",
       " 'sofa_score_links_EPL_09_10.csv',\n",
       " 'sofa_score_links_EPL_08_09.csv',\n",
       " 'sofa_score_links_EPL_07_08.csv',\n",
       " 'sofa_score_links_EPL_06_07.csv',\n",
       " 'sofa_score_links_EPL_05_06.csv',\n",
       " 'sofa_score_links_EPL_04_05.csv',\n",
       " 'sofa_score_links_EPL_03_04.csv',\n",
       " 'sofa_score_links_BR_2018.csv',\n",
       " 'sofa_score_links_BR_2017.csv',\n",
       " 'sofa_score_links_BR_2016.csv',\n",
       " 'sofa_score_links_BR_2015.csv',\n",
       " 'sofa_score_links_BR_2014.csv',\n",
       " 'sofa_score_links_BR_2013.csv',\n",
       " 'sofa_score_links_BR_2012.csv',\n",
       " 'sofa_score_links_BR_2011.csv',\n",
       " 'sofa_score_links_BR_2010.csv',\n",
       " 'sofa_score_links_BR_2009.csv',\n",
       " 'sofa_score_links_BR_2008.csv']"
      ]
     },
     "execution_count": 130,
     "metadata": {},
     "output_type": "execute_result"
    }
   ],
   "source": [
    "list(reversed(sorted(os.listdir(\"links_sofa_score/\"))))[1:]"
   ]
  },
  {
   "cell_type": "code",
   "execution_count": 129,
   "metadata": {},
   "outputs": [
    {
     "data": {
      "text/plain": [
       "{'error': {'code': 404, 'message': 'Statistics not found.'}}"
      ]
     },
     "execution_count": 129,
     "metadata": {},
     "output_type": "execute_result"
    }
   ],
   "source": [
    "resp2.json()"
   ]
  },
  {
   "cell_type": "code",
   "execution_count": 150,
   "metadata": {},
   "outputs": [],
   "source": [
    "de_para_siglas = pd.read_excel(\"de_para_siglas_epl.xlsx\")\n",
    "de_para_siglas[\"time\"] = de_para_siglas[\"time\"].astype(str)\n",
    "de_para_siglas[\"time\"] = de_para_siglas[\"time\"].apply(str.strip)\n",
    "de_para_siglas.set_index(\"time\", inplace=True)"
   ]
  },
  {
   "cell_type": "code",
   "execution_count": null,
   "metadata": {
    "ExecuteTime": {
     "end_time": "2019-01-08T23:46:21.087855Z",
     "start_time": "2019-01-08T23:45:24.006948Z"
    }
   },
   "outputs": [
    {
     "name": "stdout",
     "output_type": "stream",
     "text": [
      "EPL_18_19 Game #33\r"
     ]
    }
   ],
   "source": [
    "for file in list(reversed(sorted(os.listdir(\"links_sofa_score/\"))))[1:]:\n",
    "    base = pd.read_csv(\"links_sofa_score/\" + file, sep=\";\")\n",
    "    \n",
    "    resp_game = []\n",
    "    resp_players = []\n",
    "    \n",
    "    name = file[-13:-4]\n",
    "    \n",
    "    i = 0\n",
    "    for game_id in base.id:\n",
    "        print(name + \" Game #\" + str(i), end=\"\\r\")\n",
    "        resp = s.get(\"https://www.sofascore.com/event/\" + str(game_id) + \"/general/json\", headers=headers)\n",
    "        \n",
    "        resp2 = s.get(\"https://www.sofascore.com/event/\" + str(game_id) + \"/statistics/players/json\", headers=headers)\n",
    "        resp2.encoding = 'UTF-8'\n",
    "        try:\n",
    "            players_df = pd.DataFrame(resp2.json()[\"players\"])\n",
    "        except KeyError:\n",
    "            resp_game.append(pd.DataFrame(game_statistics(resp, players_df, de_para_siglas), index=[0]).set_index(\"game\"))\n",
    "            continue\n",
    "        \n",
    "        resp_game.append(pd.DataFrame(game_statistics(resp, players_df, de_para_siglas), index=[0]).set_index(\"game\"))\n",
    "        resp_players.append(get_per_player_data(players_df, de_para_siglas)) \n",
    "        i = i + 1\n",
    "    \n",
    "    ret_game = pd.concat(resp_game)\n",
    "    ret_game.to_csv(\"EPL_data_sofa_score/game_data_\"+ name +\".csv\", sep=\";\")\n",
    "    \n",
    "    ret_players = pd.concat(resp_players)\n",
    "    ret_players.to_csv(\"EPL_data_sofa_score/players_data_\"+ name +\".csv\", sep=\";\")"
   ]
  },
  {
   "cell_type": "code",
   "execution_count": null,
   "metadata": {},
   "outputs": [],
   "source": []
  }
 ],
 "metadata": {
  "kernelspec": {
   "display_name": "Python 3",
   "language": "python",
   "name": "python3"
  },
  "language_info": {
   "codemirror_mode": {
    "name": "ipython",
    "version": 3
   },
   "file_extension": ".py",
   "mimetype": "text/x-python",
   "name": "python",
   "nbconvert_exporter": "python",
   "pygments_lexer": "ipython3",
   "version": "3.7.3"
  },
  "toc": {
   "base_numbering": 1,
   "nav_menu": {},
   "number_sections": true,
   "sideBar": true,
   "skip_h1_title": false,
   "title_cell": "Table of Contents",
   "title_sidebar": "Contents",
   "toc_cell": false,
   "toc_position": {},
   "toc_section_display": true,
   "toc_window_display": false
  }
 },
 "nbformat": 4,
 "nbformat_minor": 2
}
