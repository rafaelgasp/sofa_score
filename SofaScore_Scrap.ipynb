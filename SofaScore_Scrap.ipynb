{
 "cells": [
  {
   "cell_type": "code",
   "execution_count": 1,
   "metadata": {
    "ExecuteTime": {
     "end_time": "2019-01-08T22:50:42.425122Z",
     "start_time": "2019-01-08T22:50:41.368725Z"
    }
   },
   "outputs": [],
   "source": [
    "import requests\n",
    "import json\n",
    "import pandas as pd\n",
    "import numpy as np\n",
    "from datetime import datetime\n",
    "from tqdm import tqdm_notebook\n",
    "import bs4\n",
    "import re\n",
    "import os\n",
    "from requests.exceptions import ConnectionError\n",
    "from urllib3.exceptions import ProtocolError\n",
    "from http.client import RemoteDisconnected\n",
    "import time\n",
    "\n",
    "import warnings\n",
    "warnings.filterwarnings(\"ignore\")"
   ]
  },
  {
   "cell_type": "code",
   "execution_count": 14,
   "metadata": {
    "ExecuteTime": {
     "end_time": "2019-01-08T22:57:55.314232Z",
     "start_time": "2019-01-08T22:57:55.306235Z"
    }
   },
   "outputs": [],
   "source": [
    "%load_ext autoreload\n",
    "%autoreload 2\n",
    "\n",
    "from sofa_score_scrap import *"
   ]
  },
  {
   "cell_type": "code",
   "execution_count": 15,
   "metadata": {},
   "outputs": [],
   "source": [
    "headers = {\n",
    "    \"User-Agent\": \"Mozilla/5.0 (Windows NT 10.0; Win64; x64) AppleWebKit/537.36 (KHTML, like Gecko) Chrome/71.0.3578.98 Safari/537.36\"\n",
    "}"
   ]
  },
  {
   "cell_type": "markdown",
   "metadata": {},
   "source": [
    "#### Dê/Para de Siglas"
   ]
  },
  {
   "cell_type": "code",
   "execution_count": 158,
   "metadata": {
    "ExecuteTime": {
     "end_time": "2019-01-08T01:09:58.821295Z",
     "start_time": "2019-01-08T01:09:58.803287Z"
    }
   },
   "outputs": [],
   "source": [
    "de_para_siglas = pd.read_excel(\"de_para_siglas_epl.xlsx\")\n",
    "de_para_siglas[\"time\"] = de_para_siglas[\"time\"].astype(str)\n",
    "de_para_siglas[\"time\"] = de_para_siglas[\"time\"].apply(str.strip)\n",
    "de_para_siglas.set_index(\"time\", inplace=True)"
   ]
  },
  {
   "cell_type": "markdown",
   "metadata": {},
   "source": [
    "### Get Incidentes"
   ]
  },
  {
   "cell_type": "code",
   "execution_count": 4,
   "metadata": {},
   "outputs": [],
   "source": [
    "resp = requests.get('https://api.sofascore.com/api/v1/event/8684164/incidents', headers=headers)"
   ]
  },
  {
   "cell_type": "code",
   "execution_count": 6,
   "metadata": {},
   "outputs": [
    {
     "data": {
      "text/plain": [
       "{'incidents': [{'text': 'FT',\n",
       "   'homeScore': 2,\n",
       "   'awayScore': 1,\n",
       "   'isLive': False,\n",
       "   'time': 90,\n",
       "   'addedTime': 999,\n",
       "   'incidentType': 'period'},\n",
       "  {'playerIn': {'name': 'Billy Gilmour',\n",
       "    'slug': 'gilmour-billy',\n",
       "    'shortName': 'B. Gilmour',\n",
       "    'position': 'M',\n",
       "    'userCount': 2700,\n",
       "    'id': 907668},\n",
       "   'playerOut': {'name': 'Christian Pulišić',\n",
       "    'slug': 'christian-pulisic',\n",
       "    'shortName': 'C. Pulišić',\n",
       "    'position': 'M',\n",
       "    'userCount': 20255,\n",
       "    'id': 817957},\n",
       "   'id': 119665608,\n",
       "   'time': 90,\n",
       "   'addedTime': 1,\n",
       "   'isHome': True,\n",
       "   'incidentType': 'substitution'},\n",
       "  {'playerIn': {'name': 'Pedro',\n",
       "    'slug': 'pedro',\n",
       "    'shortName': 'Pedro',\n",
       "    'position': 'F',\n",
       "    'userCount': 5316,\n",
       "    'id': 35428},\n",
       "   'playerOut': {'name': 'Mason Mount',\n",
       "    'slug': 'mason-mount',\n",
       "    'shortName': 'M. Mount',\n",
       "    'position': 'M',\n",
       "    'userCount': 11328,\n",
       "    'id': 836694},\n",
       "   'id': 119665607,\n",
       "   'time': 90,\n",
       "   'addedTime': 1,\n",
       "   'isHome': True,\n",
       "   'incidentType': 'substitution'},\n",
       "  {'length': 6, 'time': 90, 'addedTime': 0, 'incidentType': 'injuryTime'},\n",
       "  {'homeScore': 2,\n",
       "   'awayScore': 1,\n",
       "   'player': {'name': 'Willian',\n",
       "    'slug': 'willian',\n",
       "    'shortName': 'Willian',\n",
       "    'position': 'F',\n",
       "    'userCount': 21870,\n",
       "    'id': 31417},\n",
       "   'id': 130804277,\n",
       "   'time': 78,\n",
       "   'isHome': True,\n",
       "   'incidentClass': 'penalty',\n",
       "   'incidentType': 'goal'},\n",
       "  {'player': {'name': 'Fernandinho',\n",
       "    'slug': 'fernandinho',\n",
       "    'shortName': 'Fernandinho',\n",
       "    'position': 'D',\n",
       "    'userCount': 3791,\n",
       "    'id': 13630},\n",
       "   'playerName': 'Fernandinho',\n",
       "   'reason': 'Professional handball',\n",
       "   'id': 119493457,\n",
       "   'time': 77,\n",
       "   'isHome': False,\n",
       "   'incidentClass': 'red',\n",
       "   'incidentType': 'card'},\n",
       "  {'player': {'name': 'Kevin De Bruyne',\n",
       "    'slug': 'kevin-de-bruyne',\n",
       "    'shortName': 'K. D. Bruyne',\n",
       "    'position': 'M',\n",
       "    'userCount': 58670,\n",
       "    'id': 70996},\n",
       "   'playerName': 'Kevin De Bruyne',\n",
       "   'reason': 'Foul',\n",
       "   'id': 119493456,\n",
       "   'time': 76,\n",
       "   'isHome': False,\n",
       "   'incidentClass': 'yellow',\n",
       "   'incidentType': 'card'},\n",
       "  {'confirmed': False,\n",
       "   'player': {'name': 'Tammy Abraham',\n",
       "    'slug': 'tammy-abraham',\n",
       "    'shortName': 'T. Abraham',\n",
       "    'position': 'F',\n",
       "    'userCount': 21998,\n",
       "    'id': 610766},\n",
       "   'isHome': True,\n",
       "   'id': 2365,\n",
       "   'time': 76,\n",
       "   'incidentClass': 'penaltyNotAwarded',\n",
       "   'incidentType': 'varDecision'},\n",
       "  {'playerIn': {'name': 'Nicolás Otamendi',\n",
       "    'slug': 'nicolas-otamendi',\n",
       "    'shortName': 'N. Otamendi',\n",
       "    'position': 'D',\n",
       "    'userCount': 4057,\n",
       "    'id': 74915},\n",
       "   'playerOut': {'name': 'Aymeric Laporte',\n",
       "    'slug': 'aymeric-laporte',\n",
       "    'shortName': 'A. Laporte',\n",
       "    'position': 'D',\n",
       "    'userCount': 4227,\n",
       "    'id': 149734},\n",
       "   'id': 119665612,\n",
       "   'time': 74,\n",
       "   'isHome': False,\n",
       "   'incidentType': 'substitution'},\n",
       "  {'playerIn': {'name': 'Mateo Kovačić',\n",
       "    'slug': 'mateo-kovacic',\n",
       "    'shortName': 'M. Kovačić',\n",
       "    'position': 'M',\n",
       "    'userCount': 11139,\n",
       "    'id': 136710},\n",
       "   'playerOut': {'name': 'Ross Barkley',\n",
       "    'slug': 'ross-barkley',\n",
       "    'shortName': 'R. Barkley',\n",
       "    'position': 'M',\n",
       "    'userCount': 3645,\n",
       "    'id': 98435},\n",
       "   'id': 119665606,\n",
       "   'time': 73,\n",
       "   'isHome': True,\n",
       "   'incidentType': 'substitution'},\n",
       "  {'confirmed': True,\n",
       "   'player': {'name': 'Antonio Rüdiger',\n",
       "    'slug': 'antonio-rudiger',\n",
       "    'shortName': 'A. Rüdiger',\n",
       "    'position': 'D',\n",
       "    'userCount': 3350,\n",
       "    'id': 142622},\n",
       "   'isHome': True,\n",
       "   'id': 2364,\n",
       "   'time': 66,\n",
       "   'incidentClass': 'cardUpgrade',\n",
       "   'incidentType': 'varDecision'},\n",
       "  {'playerIn': {'name': 'Tammy Abraham',\n",
       "    'slug': 'tammy-abraham',\n",
       "    'shortName': 'T. Abraham',\n",
       "    'position': 'F',\n",
       "    'userCount': 21998,\n",
       "    'id': 610766},\n",
       "   'playerOut': {'name': 'Olivier Giroud',\n",
       "    'slug': 'olivier-giroud',\n",
       "    'shortName': 'O. Giroud',\n",
       "    'position': 'F',\n",
       "    'userCount': 9407,\n",
       "    'id': 39070},\n",
       "   'id': 119665605,\n",
       "   'time': 62,\n",
       "   'isHome': True,\n",
       "   'incidentType': 'substitution'},\n",
       "  {'playerIn': {'name': 'Oleksandr Zinchenko',\n",
       "    'slug': 'oleksandr-zinchenko',\n",
       "    'shortName': 'O. Zinchenko',\n",
       "    'position': 'D',\n",
       "    'userCount': 4915,\n",
       "    'id': 287643},\n",
       "   'playerOut': {'name': 'Benjamin Mendy',\n",
       "    'slug': 'benjamin-mendy',\n",
       "    'shortName': 'B. Mendy',\n",
       "    'position': 'D',\n",
       "    'userCount': 3876,\n",
       "    'id': 139225},\n",
       "   'id': 119665611,\n",
       "   'time': 59,\n",
       "   'isHome': False,\n",
       "   'incidentType': 'substitution'},\n",
       "  {'homeScore': 1,\n",
       "   'awayScore': 1,\n",
       "   'player': {'name': 'Kevin De Bruyne',\n",
       "    'slug': 'kevin-de-bruyne',\n",
       "    'shortName': 'K. D. Bruyne',\n",
       "    'position': 'M',\n",
       "    'userCount': 58670,\n",
       "    'id': 70996},\n",
       "   'id': 130804278,\n",
       "   'time': 55,\n",
       "   'isHome': False,\n",
       "   'incidentClass': 'regular',\n",
       "   'incidentType': 'goal'},\n",
       "  {'playerIn': {'name': 'David Silva',\n",
       "    'slug': 'david-silva',\n",
       "    'shortName': 'D. Silva',\n",
       "    'position': 'M',\n",
       "    'userCount': 8048,\n",
       "    'id': 11781},\n",
       "   'playerOut': {'name': 'Rodri',\n",
       "    'slug': 'rodri',\n",
       "    'shortName': 'Rodri',\n",
       "    'position': 'M',\n",
       "    'userCount': 4682,\n",
       "    'id': 827606},\n",
       "   'id': 119665610,\n",
       "   'time': 55,\n",
       "   'isHome': False,\n",
       "   'incidentType': 'substitution'},\n",
       "  {'playerIn': {'name': 'Gabriel Jesus',\n",
       "    'slug': 'gabriel-jesus',\n",
       "    'shortName': 'Gabriel',\n",
       "    'position': 'F',\n",
       "    'userCount': 20950,\n",
       "    'id': 794839},\n",
       "   'playerOut': {'name': 'Bernardo Silva',\n",
       "    'slug': 'bernardo-silva',\n",
       "    'shortName': 'B. Silva',\n",
       "    'position': 'M',\n",
       "    'userCount': 14069,\n",
       "    'id': 331209},\n",
       "   'id': 119665609,\n",
       "   'time': 55,\n",
       "   'isHome': False,\n",
       "   'incidentType': 'substitution'},\n",
       "  {'text': 'HT',\n",
       "   'homeScore': 1,\n",
       "   'awayScore': 0,\n",
       "   'isLive': False,\n",
       "   'time': 45,\n",
       "   'addedTime': 999,\n",
       "   'incidentType': 'period'},\n",
       "  {'length': 2, 'time': 45, 'addedTime': 0, 'incidentType': 'injuryTime'},\n",
       "  {'player': {'name': 'Marcos Alonso',\n",
       "    'slug': 'marcos-alonso',\n",
       "    'shortName': 'M. Alonso',\n",
       "    'position': 'D',\n",
       "    'userCount': 4929,\n",
       "    'id': 69408},\n",
       "   'playerName': 'Marcos Alonso',\n",
       "   'reason': 'Foul',\n",
       "   'id': 119493455,\n",
       "   'time': 38,\n",
       "   'isHome': True,\n",
       "   'incidentClass': 'yellow',\n",
       "   'incidentType': 'card'},\n",
       "  {'homeScore': 1,\n",
       "   'awayScore': 0,\n",
       "   'player': {'name': 'Christian Pulišić',\n",
       "    'slug': 'christian-pulisic',\n",
       "    'shortName': 'C. Pulišić',\n",
       "    'position': 'M',\n",
       "    'userCount': 20255,\n",
       "    'id': 817957},\n",
       "   'id': 130804276,\n",
       "   'time': 36,\n",
       "   'isHome': True,\n",
       "   'incidentClass': 'regular',\n",
       "   'incidentType': 'goal'}]}"
      ]
     },
     "execution_count": 6,
     "metadata": {},
     "output_type": "execute_result"
    }
   ],
   "source": [
    "resp.json()"
   ]
  },
  {
   "cell_type": "code",
   "execution_count": 187,
   "metadata": {},
   "outputs": [],
   "source": [
    "incidents_per_type = {}\n",
    "\n",
    "for el in resp_incidents.json()[\"incidents\"]:\n",
    "    if not el['incidentType'] in incidents_per_type:\n",
    "        incidents_per_type[el['incidentType']] = []\n",
    "    incidents_per_type[el['incidentType']].append(el)"
   ]
  },
  {
   "cell_type": "code",
   "execution_count": 189,
   "metadata": {},
   "outputs": [
    {
     "data": {
      "text/plain": [
       "dict_keys(['period', 'substitution', 'injuryTime', 'goal', 'card', 'varDecision'])"
      ]
     },
     "execution_count": 189,
     "metadata": {},
     "output_type": "execute_result"
    }
   ],
   "source": [
    "incidents_per_type.keys()"
   ]
  },
  {
   "cell_type": "code",
   "execution_count": 17,
   "metadata": {},
   "outputs": [],
   "source": [
    "for key in incidents_per_type:\n",
    "    incidents_per_type[key] = pd.DataFrame(incidents_per_type[key])"
   ]
  },
  {
   "cell_type": "code",
   "execution_count": 193,
   "metadata": {},
   "outputs": [],
   "source": [
    "incidents_dict = get_incidents_database(resp_incidents)"
   ]
  },
  {
   "cell_type": "code",
   "execution_count": 196,
   "metadata": {},
   "outputs": [
    {
     "data": {
      "text/html": [
       "<div>\n",
       "<style scoped>\n",
       "    .dataframe tbody tr th:only-of-type {\n",
       "        vertical-align: middle;\n",
       "    }\n",
       "\n",
       "    .dataframe tbody tr th {\n",
       "        vertical-align: top;\n",
       "    }\n",
       "\n",
       "    .dataframe thead th {\n",
       "        text-align: right;\n",
       "    }\n",
       "</style>\n",
       "<table border=\"1\" class=\"dataframe\">\n",
       "  <thead>\n",
       "    <tr style=\"text-align: right;\">\n",
       "      <th></th>\n",
       "      <th>homeScore</th>\n",
       "      <th>awayScore</th>\n",
       "      <th>player</th>\n",
       "      <th>id</th>\n",
       "      <th>time</th>\n",
       "      <th>isHome</th>\n",
       "      <th>incidentClass</th>\n",
       "      <th>incidentType</th>\n",
       "    </tr>\n",
       "  </thead>\n",
       "  <tbody>\n",
       "    <tr>\n",
       "      <th>0</th>\n",
       "      <td>2</td>\n",
       "      <td>1</td>\n",
       "      <td>{'name': 'Willian', 'slug': 'willian', 'shortN...</td>\n",
       "      <td>130804277</td>\n",
       "      <td>78</td>\n",
       "      <td>True</td>\n",
       "      <td>penalty</td>\n",
       "      <td>goal</td>\n",
       "    </tr>\n",
       "    <tr>\n",
       "      <th>1</th>\n",
       "      <td>1</td>\n",
       "      <td>1</td>\n",
       "      <td>{'name': 'Kevin De Bruyne', 'slug': 'kevin-de-...</td>\n",
       "      <td>130804278</td>\n",
       "      <td>55</td>\n",
       "      <td>False</td>\n",
       "      <td>regular</td>\n",
       "      <td>goal</td>\n",
       "    </tr>\n",
       "    <tr>\n",
       "      <th>2</th>\n",
       "      <td>1</td>\n",
       "      <td>0</td>\n",
       "      <td>{'name': 'Christian Pulišić', 'slug': 'christi...</td>\n",
       "      <td>130804276</td>\n",
       "      <td>36</td>\n",
       "      <td>True</td>\n",
       "      <td>regular</td>\n",
       "      <td>goal</td>\n",
       "    </tr>\n",
       "  </tbody>\n",
       "</table>\n",
       "</div>"
      ],
      "text/plain": [
       "   homeScore  awayScore                                             player  \\\n",
       "0          2          1  {'name': 'Willian', 'slug': 'willian', 'shortN...   \n",
       "1          1          1  {'name': 'Kevin De Bruyne', 'slug': 'kevin-de-...   \n",
       "2          1          0  {'name': 'Christian Pulišić', 'slug': 'christi...   \n",
       "\n",
       "          id  time  isHome incidentClass incidentType  \n",
       "0  130804277    78    True       penalty         goal  \n",
       "1  130804278    55   False       regular         goal  \n",
       "2  130804276    36    True       regular         goal  "
      ]
     },
     "execution_count": 196,
     "metadata": {},
     "output_type": "execute_result"
    }
   ],
   "source": [
    "incidents_dict['goal']"
   ]
  },
  {
   "cell_type": "code",
   "execution_count": 8,
   "metadata": {},
   "outputs": [],
   "source": [
    "df_incidents = pd.DataFrame(resp.json()[\"incidents\"])"
   ]
  },
  {
   "cell_type": "code",
   "execution_count": 11,
   "metadata": {},
   "outputs": [
    {
     "data": {
      "text/html": [
       "<div>\n",
       "<style scoped>\n",
       "    .dataframe tbody tr th:only-of-type {\n",
       "        vertical-align: middle;\n",
       "    }\n",
       "\n",
       "    .dataframe tbody tr th {\n",
       "        vertical-align: top;\n",
       "    }\n",
       "\n",
       "    .dataframe thead th {\n",
       "        text-align: right;\n",
       "    }\n",
       "</style>\n",
       "<table border=\"1\" class=\"dataframe\">\n",
       "  <thead>\n",
       "    <tr style=\"text-align: right;\">\n",
       "      <th></th>\n",
       "      <th>text</th>\n",
       "      <th>homeScore</th>\n",
       "      <th>awayScore</th>\n",
       "      <th>isLive</th>\n",
       "      <th>time</th>\n",
       "      <th>addedTime</th>\n",
       "      <th>incidentType</th>\n",
       "      <th>playerIn</th>\n",
       "      <th>playerOut</th>\n",
       "      <th>id</th>\n",
       "      <th>isHome</th>\n",
       "      <th>length</th>\n",
       "      <th>player</th>\n",
       "      <th>incidentClass</th>\n",
       "      <th>playerName</th>\n",
       "      <th>reason</th>\n",
       "      <th>confirmed</th>\n",
       "    </tr>\n",
       "  </thead>\n",
       "  <tbody>\n",
       "    <tr>\n",
       "      <th>4</th>\n",
       "      <td>NaN</td>\n",
       "      <td>2.0</td>\n",
       "      <td>1.0</td>\n",
       "      <td>NaN</td>\n",
       "      <td>78</td>\n",
       "      <td>NaN</td>\n",
       "      <td>goal</td>\n",
       "      <td>NaN</td>\n",
       "      <td>NaN</td>\n",
       "      <td>130804277.0</td>\n",
       "      <td>True</td>\n",
       "      <td>NaN</td>\n",
       "      <td>{'name': 'Willian', 'slug': 'willian', 'shortN...</td>\n",
       "      <td>penalty</td>\n",
       "      <td>NaN</td>\n",
       "      <td>NaN</td>\n",
       "      <td>NaN</td>\n",
       "    </tr>\n",
       "    <tr>\n",
       "      <th>13</th>\n",
       "      <td>NaN</td>\n",
       "      <td>1.0</td>\n",
       "      <td>1.0</td>\n",
       "      <td>NaN</td>\n",
       "      <td>55</td>\n",
       "      <td>NaN</td>\n",
       "      <td>goal</td>\n",
       "      <td>NaN</td>\n",
       "      <td>NaN</td>\n",
       "      <td>130804278.0</td>\n",
       "      <td>False</td>\n",
       "      <td>NaN</td>\n",
       "      <td>{'name': 'Kevin De Bruyne', 'slug': 'kevin-de-...</td>\n",
       "      <td>regular</td>\n",
       "      <td>NaN</td>\n",
       "      <td>NaN</td>\n",
       "      <td>NaN</td>\n",
       "    </tr>\n",
       "    <tr>\n",
       "      <th>19</th>\n",
       "      <td>NaN</td>\n",
       "      <td>1.0</td>\n",
       "      <td>0.0</td>\n",
       "      <td>NaN</td>\n",
       "      <td>36</td>\n",
       "      <td>NaN</td>\n",
       "      <td>goal</td>\n",
       "      <td>NaN</td>\n",
       "      <td>NaN</td>\n",
       "      <td>130804276.0</td>\n",
       "      <td>True</td>\n",
       "      <td>NaN</td>\n",
       "      <td>{'name': 'Christian Pulišić', 'slug': 'christi...</td>\n",
       "      <td>regular</td>\n",
       "      <td>NaN</td>\n",
       "      <td>NaN</td>\n",
       "      <td>NaN</td>\n",
       "    </tr>\n",
       "  </tbody>\n",
       "</table>\n",
       "</div>"
      ],
      "text/plain": [
       "   text  homeScore  awayScore isLive  time  addedTime incidentType playerIn  \\\n",
       "4   NaN        2.0        1.0    NaN    78        NaN         goal      NaN   \n",
       "13  NaN        1.0        1.0    NaN    55        NaN         goal      NaN   \n",
       "19  NaN        1.0        0.0    NaN    36        NaN         goal      NaN   \n",
       "\n",
       "   playerOut           id isHome  length  \\\n",
       "4        NaN  130804277.0   True     NaN   \n",
       "13       NaN  130804278.0  False     NaN   \n",
       "19       NaN  130804276.0   True     NaN   \n",
       "\n",
       "                                               player incidentClass  \\\n",
       "4   {'name': 'Willian', 'slug': 'willian', 'shortN...       penalty   \n",
       "13  {'name': 'Kevin De Bruyne', 'slug': 'kevin-de-...       regular   \n",
       "19  {'name': 'Christian Pulišić', 'slug': 'christi...       regular   \n",
       "\n",
       "   playerName reason confirmed  \n",
       "4         NaN    NaN       NaN  \n",
       "13        NaN    NaN       NaN  \n",
       "19        NaN    NaN       NaN  "
      ]
     },
     "execution_count": 11,
     "metadata": {},
     "output_type": "execute_result"
    }
   ],
   "source": [
    "df_incidents[df_incidents.incidentType == 'goal']"
   ]
  },
  {
   "cell_type": "code",
   "execution_count": 10,
   "metadata": {},
   "outputs": [
    {
     "data": {
      "text/plain": [
       "substitution    8\n",
       "card            3\n",
       "goal            3\n",
       "period          2\n",
       "varDecision     2\n",
       "injuryTime      2\n",
       "Name: incidentType, dtype: int64"
      ]
     },
     "execution_count": 10,
     "metadata": {},
     "output_type": "execute_result"
    }
   ],
   "source": [
    "df_incidents.incidentType.value_counts()"
   ]
  },
  {
   "cell_type": "markdown",
   "metadata": {},
   "source": [
    "### Players Stats "
   ]
  },
  {
   "cell_type": "code",
   "execution_count": 29,
   "metadata": {
    "ExecuteTime": {
     "end_time": "2019-01-02T23:10:13.567633Z",
     "start_time": "2019-01-02T23:09:30.390276Z"
    }
   },
   "outputs": [],
   "source": [
    "# s.get('https://www.sofascore.cddom/pt/atletico-mineiro-internacional/qOsCO', headers={'x-test2': 'true'})\n",
    "resp = requests.get(\"https://www.sofascore.com/event/7724681/statistics/players/json?_=154328071\", headers=headers)"
   ]
  },
  {
   "cell_type": "code",
   "execution_count": 30,
   "metadata": {
    "ExecuteTime": {
     "end_time": "2019-01-02T23:10:13.806466Z",
     "start_time": "2019-01-02T23:10:13.571602Z"
    }
   },
   "outputs": [],
   "source": [
    "players_df = pd.DataFrame(resp.json()[\"players\"])"
   ]
  },
  {
   "cell_type": "code",
   "execution_count": 35,
   "metadata": {
    "ExecuteTime": {
     "end_time": "2019-01-02T23:11:49.342027Z",
     "start_time": "2019-01-02T23:11:48.790135Z"
    },
    "scrolled": true
   },
   "outputs": [
    {
     "data": {
      "text/html": [
       "<div>\n",
       "<style scoped>\n",
       "    .dataframe tbody tr th:only-of-type {\n",
       "        vertical-align: middle;\n",
       "    }\n",
       "\n",
       "    .dataframe tbody tr th {\n",
       "        vertical-align: top;\n",
       "    }\n",
       "\n",
       "    .dataframe thead th {\n",
       "        text-align: right;\n",
       "    }\n",
       "</style>\n",
       "<table border=\"1\" class=\"dataframe\">\n",
       "  <thead>\n",
       "    <tr style=\"text-align: right;\">\n",
       "      <th></th>\n",
       "      <th>name</th>\n",
       "      <th>slug</th>\n",
       "      <th>shortName</th>\n",
       "      <th>id</th>\n",
       "      <th>disabled</th>\n",
       "      <th>national</th>\n",
       "      <th>team_name</th>\n",
       "      <th>team_id</th>\n",
       "      <th>goals</th>\n",
       "      <th>goalAssist</th>\n",
       "      <th>...</th>\n",
       "      <th>totalLongBalls</th>\n",
       "      <th>possessionLost</th>\n",
       "      <th>fouls</th>\n",
       "      <th>wasFouled</th>\n",
       "      <th>offsides</th>\n",
       "      <th>saves</th>\n",
       "      <th>punches</th>\n",
       "      <th>runsOut</th>\n",
       "      <th>goodHighClaim</th>\n",
       "      <th>team</th>\n",
       "    </tr>\n",
       "    <tr>\n",
       "      <th>game</th>\n",
       "      <th></th>\n",
       "      <th></th>\n",
       "      <th></th>\n",
       "      <th></th>\n",
       "      <th></th>\n",
       "      <th></th>\n",
       "      <th></th>\n",
       "      <th></th>\n",
       "      <th></th>\n",
       "      <th></th>\n",
       "      <th></th>\n",
       "      <th></th>\n",
       "      <th></th>\n",
       "      <th></th>\n",
       "      <th></th>\n",
       "      <th></th>\n",
       "      <th></th>\n",
       "      <th></th>\n",
       "      <th></th>\n",
       "      <th></th>\n",
       "      <th></th>\n",
       "    </tr>\n",
       "  </thead>\n",
       "  <tbody>\n",
       "    <tr>\n",
       "      <th>INT X CAM 2018-11-21</th>\n",
       "      <td>Juan Cazares</td>\n",
       "      <td>atletico-mineiro</td>\n",
       "      <td>J. Cazares</td>\n",
       "      <td>158411</td>\n",
       "      <td>False</td>\n",
       "      <td>False</td>\n",
       "      <td>Atlético Mineiro</td>\n",
       "      <td>1977</td>\n",
       "      <td>1</td>\n",
       "      <td>1</td>\n",
       "      <td>...</td>\n",
       "      <td>2 (2)</td>\n",
       "      <td>17</td>\n",
       "      <td>2</td>\n",
       "      <td>1</td>\n",
       "      <td>NaN</td>\n",
       "      <td>NaN</td>\n",
       "      <td>NaN</td>\n",
       "      <td>NaN</td>\n",
       "      <td>NaN</td>\n",
       "      <td>CAM</td>\n",
       "    </tr>\n",
       "    <tr>\n",
       "      <th>INT X CAM 2018-11-21</th>\n",
       "      <td>Andres D'Alessandro</td>\n",
       "      <td>internacional</td>\n",
       "      <td>A. D'Alessandro</td>\n",
       "      <td>17639</td>\n",
       "      <td>NaN</td>\n",
       "      <td>False</td>\n",
       "      <td>Internacional</td>\n",
       "      <td>1966</td>\n",
       "      <td>1</td>\n",
       "      <td></td>\n",
       "      <td>...</td>\n",
       "      <td>5 (2)</td>\n",
       "      <td>23</td>\n",
       "      <td>1</td>\n",
       "      <td>3</td>\n",
       "      <td>NaN</td>\n",
       "      <td>NaN</td>\n",
       "      <td>NaN</td>\n",
       "      <td>NaN</td>\n",
       "      <td>NaN</td>\n",
       "      <td>INT</td>\n",
       "    </tr>\n",
       "    <tr>\n",
       "      <th>INT X CAM 2018-11-21</th>\n",
       "      <td>Víctor Cuesta</td>\n",
       "      <td>internacional</td>\n",
       "      <td>V. Cuesta</td>\n",
       "      <td>587148</td>\n",
       "      <td>NaN</td>\n",
       "      <td>False</td>\n",
       "      <td>Internacional</td>\n",
       "      <td>1966</td>\n",
       "      <td></td>\n",
       "      <td></td>\n",
       "      <td>...</td>\n",
       "      <td>11 (7)</td>\n",
       "      <td>13</td>\n",
       "      <td>2</td>\n",
       "      <td>3</td>\n",
       "      <td>NaN</td>\n",
       "      <td>NaN</td>\n",
       "      <td>NaN</td>\n",
       "      <td>NaN</td>\n",
       "      <td>NaN</td>\n",
       "      <td>INT</td>\n",
       "    </tr>\n",
       "    <tr>\n",
       "      <th>INT X CAM 2018-11-21</th>\n",
       "      <td>David Terans</td>\n",
       "      <td>atletico-mineiro</td>\n",
       "      <td>D. Terans</td>\n",
       "      <td>586662</td>\n",
       "      <td>False</td>\n",
       "      <td>False</td>\n",
       "      <td>Atlético Mineiro</td>\n",
       "      <td>1977</td>\n",
       "      <td>1</td>\n",
       "      <td></td>\n",
       "      <td>...</td>\n",
       "      <td>2 (1)</td>\n",
       "      <td>5</td>\n",
       "      <td>1</td>\n",
       "      <td>0</td>\n",
       "      <td>NaN</td>\n",
       "      <td>NaN</td>\n",
       "      <td>NaN</td>\n",
       "      <td>NaN</td>\n",
       "      <td>NaN</td>\n",
       "      <td>CAM</td>\n",
       "    </tr>\n",
       "    <tr>\n",
       "      <th>INT X CAM 2018-11-21</th>\n",
       "      <td>Nico López</td>\n",
       "      <td>internacional</td>\n",
       "      <td>N. López</td>\n",
       "      <td>255881</td>\n",
       "      <td>NaN</td>\n",
       "      <td>False</td>\n",
       "      <td>Internacional</td>\n",
       "      <td>1966</td>\n",
       "      <td></td>\n",
       "      <td></td>\n",
       "      <td>...</td>\n",
       "      <td>7 (4)</td>\n",
       "      <td>15</td>\n",
       "      <td>1</td>\n",
       "      <td>1</td>\n",
       "      <td>NaN</td>\n",
       "      <td>NaN</td>\n",
       "      <td>NaN</td>\n",
       "      <td>NaN</td>\n",
       "      <td>NaN</td>\n",
       "      <td>INT</td>\n",
       "    </tr>\n",
       "    <tr>\n",
       "      <th>INT X CAM 2018-11-21</th>\n",
       "      <td>Patric</td>\n",
       "      <td>atletico-mineiro</td>\n",
       "      <td>Patric</td>\n",
       "      <td>78853</td>\n",
       "      <td>False</td>\n",
       "      <td>False</td>\n",
       "      <td>Atlético Mineiro</td>\n",
       "      <td>1977</td>\n",
       "      <td></td>\n",
       "      <td></td>\n",
       "      <td>...</td>\n",
       "      <td>8 (1)</td>\n",
       "      <td>22</td>\n",
       "      <td>1</td>\n",
       "      <td>1</td>\n",
       "      <td>NaN</td>\n",
       "      <td>NaN</td>\n",
       "      <td>NaN</td>\n",
       "      <td>NaN</td>\n",
       "      <td>NaN</td>\n",
       "      <td>CAM</td>\n",
       "    </tr>\n",
       "    <tr>\n",
       "      <th>INT X CAM 2018-11-21</th>\n",
       "      <td>Luan</td>\n",
       "      <td>atletico-mineiro</td>\n",
       "      <td>Luan</td>\n",
       "      <td>243427</td>\n",
       "      <td>False</td>\n",
       "      <td>False</td>\n",
       "      <td>Atlético Mineiro</td>\n",
       "      <td>1977</td>\n",
       "      <td></td>\n",
       "      <td></td>\n",
       "      <td>...</td>\n",
       "      <td>1 (0)</td>\n",
       "      <td>8</td>\n",
       "      <td>4</td>\n",
       "      <td>1</td>\n",
       "      <td>NaN</td>\n",
       "      <td>NaN</td>\n",
       "      <td>NaN</td>\n",
       "      <td>NaN</td>\n",
       "      <td>NaN</td>\n",
       "      <td>CAM</td>\n",
       "    </tr>\n",
       "    <tr>\n",
       "      <th>INT X CAM 2018-11-21</th>\n",
       "      <td>Emerson Santos</td>\n",
       "      <td>internacional</td>\n",
       "      <td>E. Santos</td>\n",
       "      <td>844015</td>\n",
       "      <td>NaN</td>\n",
       "      <td>False</td>\n",
       "      <td>Internacional</td>\n",
       "      <td>1966</td>\n",
       "      <td></td>\n",
       "      <td></td>\n",
       "      <td>...</td>\n",
       "      <td>4 (2)</td>\n",
       "      <td>9</td>\n",
       "      <td>0</td>\n",
       "      <td>0</td>\n",
       "      <td>NaN</td>\n",
       "      <td>NaN</td>\n",
       "      <td>NaN</td>\n",
       "      <td>NaN</td>\n",
       "      <td>NaN</td>\n",
       "      <td>INT</td>\n",
       "    </tr>\n",
       "    <tr>\n",
       "      <th>INT X CAM 2018-11-21</th>\n",
       "      <td>Fabiano</td>\n",
       "      <td>internacional</td>\n",
       "      <td>F. Leismann</td>\n",
       "      <td>551304</td>\n",
       "      <td>NaN</td>\n",
       "      <td>False</td>\n",
       "      <td>Internacional</td>\n",
       "      <td>1966</td>\n",
       "      <td></td>\n",
       "      <td></td>\n",
       "      <td>...</td>\n",
       "      <td>5 (2)</td>\n",
       "      <td>20</td>\n",
       "      <td>2</td>\n",
       "      <td>0</td>\n",
       "      <td>NaN</td>\n",
       "      <td>NaN</td>\n",
       "      <td>NaN</td>\n",
       "      <td>NaN</td>\n",
       "      <td>NaN</td>\n",
       "      <td>INT</td>\n",
       "    </tr>\n",
       "    <tr>\n",
       "      <th>INT X CAM 2018-11-21</th>\n",
       "      <td>Rodrigo Dourado</td>\n",
       "      <td>internacional</td>\n",
       "      <td>R. Dourado</td>\n",
       "      <td>269089</td>\n",
       "      <td>NaN</td>\n",
       "      <td>False</td>\n",
       "      <td>Internacional</td>\n",
       "      <td>1966</td>\n",
       "      <td></td>\n",
       "      <td></td>\n",
       "      <td>...</td>\n",
       "      <td>3 (1)</td>\n",
       "      <td>10</td>\n",
       "      <td>2</td>\n",
       "      <td>2</td>\n",
       "      <td>NaN</td>\n",
       "      <td>NaN</td>\n",
       "      <td>NaN</td>\n",
       "      <td>NaN</td>\n",
       "      <td>NaN</td>\n",
       "      <td>INT</td>\n",
       "    </tr>\n",
       "    <tr>\n",
       "      <th>INT X CAM 2018-11-21</th>\n",
       "      <td>Yimmi Chará</td>\n",
       "      <td>atletico-mineiro</td>\n",
       "      <td>Y. Chará</td>\n",
       "      <td>248069</td>\n",
       "      <td>False</td>\n",
       "      <td>False</td>\n",
       "      <td>Atlético Mineiro</td>\n",
       "      <td>1977</td>\n",
       "      <td></td>\n",
       "      <td>1</td>\n",
       "      <td>...</td>\n",
       "      <td>3 (2)</td>\n",
       "      <td>14</td>\n",
       "      <td>0</td>\n",
       "      <td>2</td>\n",
       "      <td>NaN</td>\n",
       "      <td>NaN</td>\n",
       "      <td>NaN</td>\n",
       "      <td>NaN</td>\n",
       "      <td>NaN</td>\n",
       "      <td>CAM</td>\n",
       "    </tr>\n",
       "    <tr>\n",
       "      <th>INT X CAM 2018-11-21</th>\n",
       "      <td>Matheus Galdezani</td>\n",
       "      <td>atletico-mineiro</td>\n",
       "      <td>M. Galdezani</td>\n",
       "      <td>797476</td>\n",
       "      <td>False</td>\n",
       "      <td>False</td>\n",
       "      <td>Atlético Mineiro</td>\n",
       "      <td>1977</td>\n",
       "      <td></td>\n",
       "      <td></td>\n",
       "      <td>...</td>\n",
       "      <td>3 (2)</td>\n",
       "      <td>7</td>\n",
       "      <td>2</td>\n",
       "      <td>0</td>\n",
       "      <td>NaN</td>\n",
       "      <td>NaN</td>\n",
       "      <td>NaN</td>\n",
       "      <td>NaN</td>\n",
       "      <td>NaN</td>\n",
       "      <td>CAM</td>\n",
       "    </tr>\n",
       "    <tr>\n",
       "      <th>INT X CAM 2018-11-21</th>\n",
       "      <td>Adilson</td>\n",
       "      <td>atletico-mineiro</td>\n",
       "      <td>Adilson</td>\n",
       "      <td>39618</td>\n",
       "      <td>False</td>\n",
       "      <td>False</td>\n",
       "      <td>Atlético Mineiro</td>\n",
       "      <td>1977</td>\n",
       "      <td></td>\n",
       "      <td></td>\n",
       "      <td>...</td>\n",
       "      <td>3 (1)</td>\n",
       "      <td>10</td>\n",
       "      <td>1</td>\n",
       "      <td>1</td>\n",
       "      <td>NaN</td>\n",
       "      <td>NaN</td>\n",
       "      <td>NaN</td>\n",
       "      <td>NaN</td>\n",
       "      <td>NaN</td>\n",
       "      <td>CAM</td>\n",
       "    </tr>\n",
       "    <tr>\n",
       "      <th>INT X CAM 2018-11-21</th>\n",
       "      <td>Edenílson</td>\n",
       "      <td>internacional</td>\n",
       "      <td>Edenílson</td>\n",
       "      <td>221636</td>\n",
       "      <td>NaN</td>\n",
       "      <td>False</td>\n",
       "      <td>Internacional</td>\n",
       "      <td>1966</td>\n",
       "      <td></td>\n",
       "      <td></td>\n",
       "      <td>...</td>\n",
       "      <td>5 (3)</td>\n",
       "      <td>19</td>\n",
       "      <td>0</td>\n",
       "      <td>2</td>\n",
       "      <td>NaN</td>\n",
       "      <td>NaN</td>\n",
       "      <td>NaN</td>\n",
       "      <td>NaN</td>\n",
       "      <td>NaN</td>\n",
       "      <td>INT</td>\n",
       "    </tr>\n",
       "    <tr>\n",
       "      <th>INT X CAM 2018-11-21</th>\n",
       "      <td>Leandro Damião</td>\n",
       "      <td>internacional</td>\n",
       "      <td>L. Damião</td>\n",
       "      <td>108485</td>\n",
       "      <td>NaN</td>\n",
       "      <td>False</td>\n",
       "      <td>Internacional</td>\n",
       "      <td>1966</td>\n",
       "      <td></td>\n",
       "      <td></td>\n",
       "      <td>...</td>\n",
       "      <td>0 (0)</td>\n",
       "      <td>9</td>\n",
       "      <td>0</td>\n",
       "      <td>2</td>\n",
       "      <td>NaN</td>\n",
       "      <td>NaN</td>\n",
       "      <td>NaN</td>\n",
       "      <td>NaN</td>\n",
       "      <td>NaN</td>\n",
       "      <td>INT</td>\n",
       "    </tr>\n",
       "    <tr>\n",
       "      <th>INT X CAM 2018-11-21</th>\n",
       "      <td>Leonardo Silva</td>\n",
       "      <td>atletico-mineiro</td>\n",
       "      <td>L. Silva</td>\n",
       "      <td>47749</td>\n",
       "      <td>False</td>\n",
       "      <td>False</td>\n",
       "      <td>Atlético Mineiro</td>\n",
       "      <td>1977</td>\n",
       "      <td></td>\n",
       "      <td></td>\n",
       "      <td>...</td>\n",
       "      <td>7 (1)</td>\n",
       "      <td>13</td>\n",
       "      <td>1</td>\n",
       "      <td>0</td>\n",
       "      <td>NaN</td>\n",
       "      <td>NaN</td>\n",
       "      <td>NaN</td>\n",
       "      <td>NaN</td>\n",
       "      <td>NaN</td>\n",
       "      <td>CAM</td>\n",
       "    </tr>\n",
       "    <tr>\n",
       "      <th>INT X CAM 2018-11-21</th>\n",
       "      <td>Patrick</td>\n",
       "      <td>internacional</td>\n",
       "      <td>Patrick</td>\n",
       "      <td>594428</td>\n",
       "      <td>NaN</td>\n",
       "      <td>False</td>\n",
       "      <td>Internacional</td>\n",
       "      <td>1966</td>\n",
       "      <td></td>\n",
       "      <td></td>\n",
       "      <td>...</td>\n",
       "      <td>1 (0)</td>\n",
       "      <td>11</td>\n",
       "      <td>1</td>\n",
       "      <td>2</td>\n",
       "      <td>NaN</td>\n",
       "      <td>NaN</td>\n",
       "      <td>NaN</td>\n",
       "      <td>NaN</td>\n",
       "      <td>NaN</td>\n",
       "      <td>INT</td>\n",
       "    </tr>\n",
       "    <tr>\n",
       "      <th>INT X CAM 2018-11-21</th>\n",
       "      <td>Lucas Candido</td>\n",
       "      <td>atletico-mineiro</td>\n",
       "      <td>L. Candido</td>\n",
       "      <td>334713</td>\n",
       "      <td>False</td>\n",
       "      <td>False</td>\n",
       "      <td>Atlético Mineiro</td>\n",
       "      <td>1977</td>\n",
       "      <td></td>\n",
       "      <td></td>\n",
       "      <td>...</td>\n",
       "      <td>2 (1)</td>\n",
       "      <td>3</td>\n",
       "      <td>0</td>\n",
       "      <td>0</td>\n",
       "      <td>NaN</td>\n",
       "      <td>NaN</td>\n",
       "      <td>NaN</td>\n",
       "      <td>NaN</td>\n",
       "      <td>NaN</td>\n",
       "      <td>CAM</td>\n",
       "    </tr>\n",
       "    <tr>\n",
       "      <th>INT X CAM 2018-11-21</th>\n",
       "      <td>Alerrandro</td>\n",
       "      <td>atletico-mineiro</td>\n",
       "      <td>Alerrandro</td>\n",
       "      <td>923948</td>\n",
       "      <td>False</td>\n",
       "      <td>False</td>\n",
       "      <td>Atlético Mineiro</td>\n",
       "      <td>1977</td>\n",
       "      <td></td>\n",
       "      <td></td>\n",
       "      <td>...</td>\n",
       "      <td>2 (0)</td>\n",
       "      <td>4</td>\n",
       "      <td>1</td>\n",
       "      <td>1</td>\n",
       "      <td>NaN</td>\n",
       "      <td>NaN</td>\n",
       "      <td>NaN</td>\n",
       "      <td>NaN</td>\n",
       "      <td>NaN</td>\n",
       "      <td>CAM</td>\n",
       "    </tr>\n",
       "    <tr>\n",
       "      <th>INT X CAM 2018-11-21</th>\n",
       "      <td>Juan</td>\n",
       "      <td>internacional</td>\n",
       "      <td>Juan</td>\n",
       "      <td>875906</td>\n",
       "      <td>NaN</td>\n",
       "      <td>False</td>\n",
       "      <td>Internacional</td>\n",
       "      <td>1966</td>\n",
       "      <td></td>\n",
       "      <td></td>\n",
       "      <td>...</td>\n",
       "      <td>1 (0)</td>\n",
       "      <td>8</td>\n",
       "      <td>0</td>\n",
       "      <td>0</td>\n",
       "      <td>NaN</td>\n",
       "      <td>NaN</td>\n",
       "      <td>NaN</td>\n",
       "      <td>NaN</td>\n",
       "      <td>NaN</td>\n",
       "      <td>INT</td>\n",
       "    </tr>\n",
       "    <tr>\n",
       "      <th>INT X CAM 2018-11-21</th>\n",
       "      <td>Emerson</td>\n",
       "      <td>atletico-mineiro</td>\n",
       "      <td>Emerson</td>\n",
       "      <td>856123</td>\n",
       "      <td>False</td>\n",
       "      <td>False</td>\n",
       "      <td>Atlético Mineiro</td>\n",
       "      <td>1977</td>\n",
       "      <td></td>\n",
       "      <td></td>\n",
       "      <td>...</td>\n",
       "      <td>3 (0)</td>\n",
       "      <td>19</td>\n",
       "      <td>1</td>\n",
       "      <td>2</td>\n",
       "      <td>NaN</td>\n",
       "      <td>NaN</td>\n",
       "      <td>NaN</td>\n",
       "      <td>NaN</td>\n",
       "      <td>NaN</td>\n",
       "      <td>CAM</td>\n",
       "    </tr>\n",
       "    <tr>\n",
       "      <th>INT X CAM 2018-11-21</th>\n",
       "      <td>Camilo</td>\n",
       "      <td>internacional</td>\n",
       "      <td>Camilo</td>\n",
       "      <td>345609</td>\n",
       "      <td>NaN</td>\n",
       "      <td>False</td>\n",
       "      <td>Internacional</td>\n",
       "      <td>1966</td>\n",
       "      <td></td>\n",
       "      <td></td>\n",
       "      <td>...</td>\n",
       "      <td>0 (0)</td>\n",
       "      <td>10</td>\n",
       "      <td>0</td>\n",
       "      <td>0</td>\n",
       "      <td>NaN</td>\n",
       "      <td>NaN</td>\n",
       "      <td>NaN</td>\n",
       "      <td>NaN</td>\n",
       "      <td>NaN</td>\n",
       "      <td>INT</td>\n",
       "    </tr>\n",
       "    <tr>\n",
       "      <th>INT X CAM 2018-11-21</th>\n",
       "      <td>Rossi</td>\n",
       "      <td>internacional</td>\n",
       "      <td>Rossi</td>\n",
       "      <td>243425</td>\n",
       "      <td>NaN</td>\n",
       "      <td>False</td>\n",
       "      <td>Internacional</td>\n",
       "      <td>1966</td>\n",
       "      <td></td>\n",
       "      <td></td>\n",
       "      <td>...</td>\n",
       "      <td>1 (1)</td>\n",
       "      <td>4</td>\n",
       "      <td>1</td>\n",
       "      <td>0</td>\n",
       "      <td>1</td>\n",
       "      <td>NaN</td>\n",
       "      <td>NaN</td>\n",
       "      <td>NaN</td>\n",
       "      <td>NaN</td>\n",
       "      <td>INT</td>\n",
       "    </tr>\n",
       "    <tr>\n",
       "      <th>INT X CAM 2018-11-21</th>\n",
       "      <td>Ricardo Oliveira</td>\n",
       "      <td>atletico-mineiro</td>\n",
       "      <td>R. Oliveira</td>\n",
       "      <td>2099</td>\n",
       "      <td>False</td>\n",
       "      <td>False</td>\n",
       "      <td>Atlético Mineiro</td>\n",
       "      <td>1977</td>\n",
       "      <td></td>\n",
       "      <td></td>\n",
       "      <td>...</td>\n",
       "      <td>0 (0)</td>\n",
       "      <td>10</td>\n",
       "      <td>2</td>\n",
       "      <td>0</td>\n",
       "      <td>NaN</td>\n",
       "      <td>NaN</td>\n",
       "      <td>NaN</td>\n",
       "      <td>NaN</td>\n",
       "      <td>NaN</td>\n",
       "      <td>CAM</td>\n",
       "    </tr>\n",
       "    <tr>\n",
       "      <th>INT X CAM 2018-11-21</th>\n",
       "      <td>Iago</td>\n",
       "      <td>internacional</td>\n",
       "      <td>Iago</td>\n",
       "      <td>869644</td>\n",
       "      <td>NaN</td>\n",
       "      <td>False</td>\n",
       "      <td>Internacional</td>\n",
       "      <td>1966</td>\n",
       "      <td></td>\n",
       "      <td></td>\n",
       "      <td>...</td>\n",
       "      <td>11 (4)</td>\n",
       "      <td>23</td>\n",
       "      <td>0</td>\n",
       "      <td>0</td>\n",
       "      <td>1</td>\n",
       "      <td>NaN</td>\n",
       "      <td>NaN</td>\n",
       "      <td>NaN</td>\n",
       "      <td>NaN</td>\n",
       "      <td>INT</td>\n",
       "    </tr>\n",
       "    <tr>\n",
       "      <th>INT X CAM 2018-11-21</th>\n",
       "      <td>Victor</td>\n",
       "      <td>atletico-mineiro</td>\n",
       "      <td>Victor</td>\n",
       "      <td>39418</td>\n",
       "      <td>False</td>\n",
       "      <td>False</td>\n",
       "      <td>Atlético Mineiro</td>\n",
       "      <td>1977</td>\n",
       "      <td></td>\n",
       "      <td></td>\n",
       "      <td>...</td>\n",
       "      <td>22 (5)</td>\n",
       "      <td>NaN</td>\n",
       "      <td>0</td>\n",
       "      <td>0</td>\n",
       "      <td>NaN</td>\n",
       "      <td>1</td>\n",
       "      <td>0</td>\n",
       "      <td>0 (0)</td>\n",
       "      <td>0</td>\n",
       "      <td>CAM</td>\n",
       "    </tr>\n",
       "    <tr>\n",
       "      <th>INT X CAM 2018-11-21</th>\n",
       "      <td>Marcelo Lomba</td>\n",
       "      <td>internacional</td>\n",
       "      <td>M. Lomba</td>\n",
       "      <td>34141</td>\n",
       "      <td>NaN</td>\n",
       "      <td>False</td>\n",
       "      <td>Internacional</td>\n",
       "      <td>1966</td>\n",
       "      <td></td>\n",
       "      <td></td>\n",
       "      <td>...</td>\n",
       "      <td>11 (7)</td>\n",
       "      <td>NaN</td>\n",
       "      <td>0</td>\n",
       "      <td>0</td>\n",
       "      <td>NaN</td>\n",
       "      <td>0</td>\n",
       "      <td>0</td>\n",
       "      <td>0 (0)</td>\n",
       "      <td>0</td>\n",
       "      <td>INT</td>\n",
       "    </tr>\n",
       "    <tr>\n",
       "      <th>INT X CAM 2018-11-21</th>\n",
       "      <td>Iago Maidana</td>\n",
       "      <td>atletico-mineiro</td>\n",
       "      <td>I. Maidana</td>\n",
       "      <td>599686</td>\n",
       "      <td>False</td>\n",
       "      <td>False</td>\n",
       "      <td>Atlético Mineiro</td>\n",
       "      <td>1977</td>\n",
       "      <td></td>\n",
       "      <td></td>\n",
       "      <td>...</td>\n",
       "      <td>2 (0)</td>\n",
       "      <td>9</td>\n",
       "      <td>1</td>\n",
       "      <td>0</td>\n",
       "      <td>NaN</td>\n",
       "      <td>NaN</td>\n",
       "      <td>NaN</td>\n",
       "      <td>NaN</td>\n",
       "      <td>NaN</td>\n",
       "      <td>CAM</td>\n",
       "    </tr>\n",
       "  </tbody>\n",
       "</table>\n",
       "<p>28 rows × 40 columns</p>\n",
       "</div>"
      ],
      "text/plain": [
       "                                     name              slug        shortName  \\\n",
       "game                                                                           \n",
       "INT X CAM 2018-11-21         Juan Cazares  atletico-mineiro       J. Cazares   \n",
       "INT X CAM 2018-11-21  Andres D'Alessandro     internacional  A. D'Alessandro   \n",
       "INT X CAM 2018-11-21        Víctor Cuesta     internacional        V. Cuesta   \n",
       "INT X CAM 2018-11-21         David Terans  atletico-mineiro        D. Terans   \n",
       "INT X CAM 2018-11-21           Nico López     internacional         N. López   \n",
       "INT X CAM 2018-11-21               Patric  atletico-mineiro           Patric   \n",
       "INT X CAM 2018-11-21                 Luan  atletico-mineiro             Luan   \n",
       "INT X CAM 2018-11-21       Emerson Santos     internacional        E. Santos   \n",
       "INT X CAM 2018-11-21              Fabiano     internacional      F. Leismann   \n",
       "INT X CAM 2018-11-21      Rodrigo Dourado     internacional       R. Dourado   \n",
       "INT X CAM 2018-11-21          Yimmi Chará  atletico-mineiro         Y. Chará   \n",
       "INT X CAM 2018-11-21    Matheus Galdezani  atletico-mineiro     M. Galdezani   \n",
       "INT X CAM 2018-11-21              Adilson  atletico-mineiro          Adilson   \n",
       "INT X CAM 2018-11-21            Edenílson     internacional        Edenílson   \n",
       "INT X CAM 2018-11-21       Leandro Damião     internacional        L. Damião   \n",
       "INT X CAM 2018-11-21       Leonardo Silva  atletico-mineiro         L. Silva   \n",
       "INT X CAM 2018-11-21              Patrick     internacional          Patrick   \n",
       "INT X CAM 2018-11-21        Lucas Candido  atletico-mineiro       L. Candido   \n",
       "INT X CAM 2018-11-21           Alerrandro  atletico-mineiro       Alerrandro   \n",
       "INT X CAM 2018-11-21                 Juan     internacional             Juan   \n",
       "INT X CAM 2018-11-21              Emerson  atletico-mineiro          Emerson   \n",
       "INT X CAM 2018-11-21               Camilo     internacional           Camilo   \n",
       "INT X CAM 2018-11-21                Rossi     internacional            Rossi   \n",
       "INT X CAM 2018-11-21     Ricardo Oliveira  atletico-mineiro      R. Oliveira   \n",
       "INT X CAM 2018-11-21                 Iago     internacional             Iago   \n",
       "INT X CAM 2018-11-21               Victor  atletico-mineiro           Victor   \n",
       "INT X CAM 2018-11-21        Marcelo Lomba     internacional         M. Lomba   \n",
       "INT X CAM 2018-11-21         Iago Maidana  atletico-mineiro       I. Maidana   \n",
       "\n",
       "                          id disabled  national         team_name  team_id  \\\n",
       "game                                                                         \n",
       "INT X CAM 2018-11-21  158411    False     False  Atlético Mineiro     1977   \n",
       "INT X CAM 2018-11-21   17639      NaN     False     Internacional     1966   \n",
       "INT X CAM 2018-11-21  587148      NaN     False     Internacional     1966   \n",
       "INT X CAM 2018-11-21  586662    False     False  Atlético Mineiro     1977   \n",
       "INT X CAM 2018-11-21  255881      NaN     False     Internacional     1966   \n",
       "INT X CAM 2018-11-21   78853    False     False  Atlético Mineiro     1977   \n",
       "INT X CAM 2018-11-21  243427    False     False  Atlético Mineiro     1977   \n",
       "INT X CAM 2018-11-21  844015      NaN     False     Internacional     1966   \n",
       "INT X CAM 2018-11-21  551304      NaN     False     Internacional     1966   \n",
       "INT X CAM 2018-11-21  269089      NaN     False     Internacional     1966   \n",
       "INT X CAM 2018-11-21  248069    False     False  Atlético Mineiro     1977   \n",
       "INT X CAM 2018-11-21  797476    False     False  Atlético Mineiro     1977   \n",
       "INT X CAM 2018-11-21   39618    False     False  Atlético Mineiro     1977   \n",
       "INT X CAM 2018-11-21  221636      NaN     False     Internacional     1966   \n",
       "INT X CAM 2018-11-21  108485      NaN     False     Internacional     1966   \n",
       "INT X CAM 2018-11-21   47749    False     False  Atlético Mineiro     1977   \n",
       "INT X CAM 2018-11-21  594428      NaN     False     Internacional     1966   \n",
       "INT X CAM 2018-11-21  334713    False     False  Atlético Mineiro     1977   \n",
       "INT X CAM 2018-11-21  923948    False     False  Atlético Mineiro     1977   \n",
       "INT X CAM 2018-11-21  875906      NaN     False     Internacional     1966   \n",
       "INT X CAM 2018-11-21  856123    False     False  Atlético Mineiro     1977   \n",
       "INT X CAM 2018-11-21  345609      NaN     False     Internacional     1966   \n",
       "INT X CAM 2018-11-21  243425      NaN     False     Internacional     1966   \n",
       "INT X CAM 2018-11-21    2099    False     False  Atlético Mineiro     1977   \n",
       "INT X CAM 2018-11-21  869644      NaN     False     Internacional     1966   \n",
       "INT X CAM 2018-11-21   39418    False     False  Atlético Mineiro     1977   \n",
       "INT X CAM 2018-11-21   34141      NaN     False     Internacional     1966   \n",
       "INT X CAM 2018-11-21  599686    False     False  Atlético Mineiro     1977   \n",
       "\n",
       "                     goals goalAssist  ... totalLongBalls possessionLost  \\\n",
       "game                                   ...                                 \n",
       "INT X CAM 2018-11-21     1          1  ...          2 (2)             17   \n",
       "INT X CAM 2018-11-21     1             ...          5 (2)             23   \n",
       "INT X CAM 2018-11-21                   ...         11 (7)             13   \n",
       "INT X CAM 2018-11-21     1             ...          2 (1)              5   \n",
       "INT X CAM 2018-11-21                   ...          7 (4)             15   \n",
       "INT X CAM 2018-11-21                   ...          8 (1)             22   \n",
       "INT X CAM 2018-11-21                   ...          1 (0)              8   \n",
       "INT X CAM 2018-11-21                   ...          4 (2)              9   \n",
       "INT X CAM 2018-11-21                   ...          5 (2)             20   \n",
       "INT X CAM 2018-11-21                   ...          3 (1)             10   \n",
       "INT X CAM 2018-11-21                1  ...          3 (2)             14   \n",
       "INT X CAM 2018-11-21                   ...          3 (2)              7   \n",
       "INT X CAM 2018-11-21                   ...          3 (1)             10   \n",
       "INT X CAM 2018-11-21                   ...          5 (3)             19   \n",
       "INT X CAM 2018-11-21                   ...          0 (0)              9   \n",
       "INT X CAM 2018-11-21                   ...          7 (1)             13   \n",
       "INT X CAM 2018-11-21                   ...          1 (0)             11   \n",
       "INT X CAM 2018-11-21                   ...          2 (1)              3   \n",
       "INT X CAM 2018-11-21                   ...          2 (0)              4   \n",
       "INT X CAM 2018-11-21                   ...          1 (0)              8   \n",
       "INT X CAM 2018-11-21                   ...          3 (0)             19   \n",
       "INT X CAM 2018-11-21                   ...          0 (0)             10   \n",
       "INT X CAM 2018-11-21                   ...          1 (1)              4   \n",
       "INT X CAM 2018-11-21                   ...          0 (0)             10   \n",
       "INT X CAM 2018-11-21                   ...         11 (4)             23   \n",
       "INT X CAM 2018-11-21                   ...         22 (5)            NaN   \n",
       "INT X CAM 2018-11-21                   ...         11 (7)            NaN   \n",
       "INT X CAM 2018-11-21                   ...          2 (0)              9   \n",
       "\n",
       "                     fouls wasFouled offsides saves punches runsOut  \\\n",
       "game                                                                  \n",
       "INT X CAM 2018-11-21     2         1      NaN   NaN     NaN     NaN   \n",
       "INT X CAM 2018-11-21     1         3      NaN   NaN     NaN     NaN   \n",
       "INT X CAM 2018-11-21     2         3      NaN   NaN     NaN     NaN   \n",
       "INT X CAM 2018-11-21     1         0      NaN   NaN     NaN     NaN   \n",
       "INT X CAM 2018-11-21     1         1      NaN   NaN     NaN     NaN   \n",
       "INT X CAM 2018-11-21     1         1      NaN   NaN     NaN     NaN   \n",
       "INT X CAM 2018-11-21     4         1      NaN   NaN     NaN     NaN   \n",
       "INT X CAM 2018-11-21     0         0      NaN   NaN     NaN     NaN   \n",
       "INT X CAM 2018-11-21     2         0      NaN   NaN     NaN     NaN   \n",
       "INT X CAM 2018-11-21     2         2      NaN   NaN     NaN     NaN   \n",
       "INT X CAM 2018-11-21     0         2      NaN   NaN     NaN     NaN   \n",
       "INT X CAM 2018-11-21     2         0      NaN   NaN     NaN     NaN   \n",
       "INT X CAM 2018-11-21     1         1      NaN   NaN     NaN     NaN   \n",
       "INT X CAM 2018-11-21     0         2      NaN   NaN     NaN     NaN   \n",
       "INT X CAM 2018-11-21     0         2      NaN   NaN     NaN     NaN   \n",
       "INT X CAM 2018-11-21     1         0      NaN   NaN     NaN     NaN   \n",
       "INT X CAM 2018-11-21     1         2      NaN   NaN     NaN     NaN   \n",
       "INT X CAM 2018-11-21     0         0      NaN   NaN     NaN     NaN   \n",
       "INT X CAM 2018-11-21     1         1      NaN   NaN     NaN     NaN   \n",
       "INT X CAM 2018-11-21     0         0      NaN   NaN     NaN     NaN   \n",
       "INT X CAM 2018-11-21     1         2      NaN   NaN     NaN     NaN   \n",
       "INT X CAM 2018-11-21     0         0      NaN   NaN     NaN     NaN   \n",
       "INT X CAM 2018-11-21     1         0        1   NaN     NaN     NaN   \n",
       "INT X CAM 2018-11-21     2         0      NaN   NaN     NaN     NaN   \n",
       "INT X CAM 2018-11-21     0         0        1   NaN     NaN     NaN   \n",
       "INT X CAM 2018-11-21     0         0      NaN     1       0   0 (0)   \n",
       "INT X CAM 2018-11-21     0         0      NaN     0       0   0 (0)   \n",
       "INT X CAM 2018-11-21     1         0      NaN   NaN     NaN     NaN   \n",
       "\n",
       "                     goodHighClaim team  \n",
       "game                                     \n",
       "INT X CAM 2018-11-21           NaN  CAM  \n",
       "INT X CAM 2018-11-21           NaN  INT  \n",
       "INT X CAM 2018-11-21           NaN  INT  \n",
       "INT X CAM 2018-11-21           NaN  CAM  \n",
       "INT X CAM 2018-11-21           NaN  INT  \n",
       "INT X CAM 2018-11-21           NaN  CAM  \n",
       "INT X CAM 2018-11-21           NaN  CAM  \n",
       "INT X CAM 2018-11-21           NaN  INT  \n",
       "INT X CAM 2018-11-21           NaN  INT  \n",
       "INT X CAM 2018-11-21           NaN  INT  \n",
       "INT X CAM 2018-11-21           NaN  CAM  \n",
       "INT X CAM 2018-11-21           NaN  CAM  \n",
       "INT X CAM 2018-11-21           NaN  CAM  \n",
       "INT X CAM 2018-11-21           NaN  INT  \n",
       "INT X CAM 2018-11-21           NaN  INT  \n",
       "INT X CAM 2018-11-21           NaN  CAM  \n",
       "INT X CAM 2018-11-21           NaN  INT  \n",
       "INT X CAM 2018-11-21           NaN  CAM  \n",
       "INT X CAM 2018-11-21           NaN  CAM  \n",
       "INT X CAM 2018-11-21           NaN  INT  \n",
       "INT X CAM 2018-11-21           NaN  CAM  \n",
       "INT X CAM 2018-11-21           NaN  INT  \n",
       "INT X CAM 2018-11-21           NaN  INT  \n",
       "INT X CAM 2018-11-21           NaN  CAM  \n",
       "INT X CAM 2018-11-21           NaN  INT  \n",
       "INT X CAM 2018-11-21             0  CAM  \n",
       "INT X CAM 2018-11-21             0  INT  \n",
       "INT X CAM 2018-11-21           NaN  CAM  \n",
       "\n",
       "[28 rows x 40 columns]"
      ]
     },
     "execution_count": 35,
     "metadata": {},
     "output_type": "execute_result"
    }
   ],
   "source": [
    "get_per_player_data(players_df, de_para_siglas)"
   ]
  },
  {
   "cell_type": "markdown",
   "metadata": {},
   "source": [
    "### Game Stats"
   ]
  },
  {
   "cell_type": "code",
   "execution_count": 43,
   "metadata": {
    "ExecuteTime": {
     "end_time": "2019-01-08T00:28:34.453000Z",
     "start_time": "2019-01-08T00:27:51.367495Z"
    }
   },
   "outputs": [],
   "source": [
    "resp = requests.get(\"https://www.sofascore.com/event/7724681/general/json\", headers=headers)"
   ]
  },
  {
   "cell_type": "code",
   "execution_count": 38,
   "metadata": {
    "ExecuteTime": {
     "end_time": "2019-01-08T00:29:17.677497Z",
     "start_time": "2019-01-08T00:29:17.254539Z"
    }
   },
   "outputs": [
    {
     "data": {
      "text/html": [
       "<div>\n",
       "<style scoped>\n",
       "    .dataframe tbody tr th:only-of-type {\n",
       "        vertical-align: middle;\n",
       "    }\n",
       "\n",
       "    .dataframe tbody tr th {\n",
       "        vertical-align: top;\n",
       "    }\n",
       "\n",
       "    .dataframe thead th {\n",
       "        text-align: right;\n",
       "    }\n",
       "</style>\n",
       "<table border=\"1\" class=\"dataframe\">\n",
       "  <thead>\n",
       "    <tr style=\"text-align: right;\">\n",
       "      <th></th>\n",
       "      <th>team_away</th>\n",
       "      <th>team_home</th>\n",
       "      <th>data</th>\n",
       "      <th>hora</th>\n",
       "      <th>away_score</th>\n",
       "      <th>home_score</th>\n",
       "      <th>result</th>\n",
       "      <th>Ball possession_home</th>\n",
       "      <th>Ball possession_away</th>\n",
       "      <th>Total shots_home</th>\n",
       "      <th>...</th>\n",
       "      <th>form_minute_82</th>\n",
       "      <th>form_minute_83</th>\n",
       "      <th>form_minute_84</th>\n",
       "      <th>form_minute_85</th>\n",
       "      <th>form_minute_86</th>\n",
       "      <th>form_minute_87</th>\n",
       "      <th>form_minute_88</th>\n",
       "      <th>form_minute_89</th>\n",
       "      <th>form_minute_90</th>\n",
       "      <th>form_minute_90.5</th>\n",
       "    </tr>\n",
       "    <tr>\n",
       "      <th>game</th>\n",
       "      <th></th>\n",
       "      <th></th>\n",
       "      <th></th>\n",
       "      <th></th>\n",
       "      <th></th>\n",
       "      <th></th>\n",
       "      <th></th>\n",
       "      <th></th>\n",
       "      <th></th>\n",
       "      <th></th>\n",
       "      <th></th>\n",
       "      <th></th>\n",
       "      <th></th>\n",
       "      <th></th>\n",
       "      <th></th>\n",
       "      <th></th>\n",
       "      <th></th>\n",
       "      <th></th>\n",
       "      <th></th>\n",
       "      <th></th>\n",
       "      <th></th>\n",
       "    </tr>\n",
       "  </thead>\n",
       "  <tbody>\n",
       "    <tr>\n",
       "      <th>INT X CAM 2018-11-21</th>\n",
       "      <td>CAM</td>\n",
       "      <td>INT</td>\n",
       "      <td>2018-11-21</td>\n",
       "      <td>19:30:00</td>\n",
       "      <td>2</td>\n",
       "      <td>1</td>\n",
       "      <td>-1</td>\n",
       "      <td>54%</td>\n",
       "      <td>46%</td>\n",
       "      <td>15</td>\n",
       "      <td>...</td>\n",
       "      <td>22</td>\n",
       "      <td>73</td>\n",
       "      <td>41</td>\n",
       "      <td>24</td>\n",
       "      <td>1</td>\n",
       "      <td>1</td>\n",
       "      <td>63</td>\n",
       "      <td>29</td>\n",
       "      <td>28</td>\n",
       "      <td>-49</td>\n",
       "    </tr>\n",
       "  </tbody>\n",
       "</table>\n",
       "<p>1 rows × 153 columns</p>\n",
       "</div>"
      ],
      "text/plain": [
       "                     team_away team_home        data      hora  away_score  \\\n",
       "game                                                                         \n",
       "INT X CAM 2018-11-21       CAM       INT  2018-11-21  19:30:00           2   \n",
       "\n",
       "                      home_score  result Ball possession_home  \\\n",
       "game                                                            \n",
       "INT X CAM 2018-11-21           1      -1                  54%   \n",
       "\n",
       "                     Ball possession_away Total shots_home  ...  \\\n",
       "game                                                        ...   \n",
       "INT X CAM 2018-11-21                  46%               15  ...   \n",
       "\n",
       "                     form_minute_82 form_minute_83 form_minute_84  \\\n",
       "game                                                                \n",
       "INT X CAM 2018-11-21             22             73             41   \n",
       "\n",
       "                     form_minute_85 form_minute_86 form_minute_87  \\\n",
       "game                                                                \n",
       "INT X CAM 2018-11-21             24              1              1   \n",
       "\n",
       "                     form_minute_88 form_minute_89 form_minute_90  \\\n",
       "game                                                                \n",
       "INT X CAM 2018-11-21             63             29             28   \n",
       "\n",
       "                     form_minute_90.5  \n",
       "game                                   \n",
       "INT X CAM 2018-11-21              -49  \n",
       "\n",
       "[1 rows x 153 columns]"
      ]
     },
     "execution_count": 38,
     "metadata": {},
     "output_type": "execute_result"
    }
   ],
   "source": [
    "pd.DataFrame(game_statistics(resp, players_df, de_para_siglas, period=0), index=[0]).set_index(\"game\")"
   ]
  },
  {
   "cell_type": "code",
   "execution_count": 48,
   "metadata": {},
   "outputs": [
    {
     "data": {
      "text/plain": [
       "'ALL'"
      ]
     },
     "execution_count": 48,
     "metadata": {},
     "output_type": "execute_result"
    }
   ],
   "source": [
    "resp.json()[\"statistics\"][\"periods\"][0]['period']"
   ]
  },
  {
   "cell_type": "markdown",
   "metadata": {},
   "source": [
    "### Pega links dos jogos históricos"
   ]
  },
  {
   "cell_type": "markdown",
   "metadata": {},
   "source": [
    "#### Pega os IDs das temporadas"
   ]
  },
  {
   "cell_type": "code",
   "execution_count": 58,
   "metadata": {},
   "outputs": [],
   "source": [
    "comp = requests.get(\"https://www.sofascore.com/pt/torneio/futebol/brazil/brasileiro-serie-a/325\", headers=headers)\n",
    "# comp = requests.get(\"https://www.sofascore.com/pt/torneio/futebol/england/premier-league/17\", headers=headers)\n",
    "# comp = requests.get(\"https://www.sofascore.com/pt/torneio/futebol/spain/laliga/8\", headers=headers)\n",
    "# comp = requests.get(\"https://www.sofascore.com/pt/torneio/futebol/germany/bundesliga/35\", headers=headers)\n",
    "# comp = requests.get(\"https://www.sofascore.com/pt/torneio/futebol/italy/serie-a/23\", headers=headers)\n",
    "c = bs4.BeautifulSoup(comp.content)"
   ]
  },
  {
   "cell_type": "code",
   "execution_count": 59,
   "metadata": {},
   "outputs": [],
   "source": [
    "temporadas = c.find_all(\"script\", attrs={\"id\":\"__NEXT_DATA__\"})"
   ]
  },
  {
   "cell_type": "code",
   "execution_count": 60,
   "metadata": {},
   "outputs": [],
   "source": [
    "temp = str(temporadas[0]).replace('<script id=\"__NEXT_DATA__\" type=\"application/json\">', '')\n",
    "temp = temp.replace('</script>', '')"
   ]
  },
  {
   "cell_type": "code",
   "execution_count": 61,
   "metadata": {},
   "outputs": [],
   "source": [
    "temp_j = json.loads(temp)"
   ]
  },
  {
   "cell_type": "code",
   "execution_count": 62,
   "metadata": {},
   "outputs": [],
   "source": [
    "season_ids = temp_j['props']['initialProps']['pageProps']['seasons']"
   ]
  },
  {
   "cell_type": "code",
   "execution_count": 63,
   "metadata": {},
   "outputs": [
    {
     "data": {
      "text/plain": [
       "[{'name': 'Brasileiro Serie A 2020', 'year': '2020', 'id': 27591},\n",
       " {'name': 'Brasileiro Serie A 2019', 'year': '2019', 'id': 22931},\n",
       " {'name': 'Brasileiro Serie A 2018', 'year': '2018', 'id': 16183},\n",
       " {'name': 'Brasileiro Serie A 2017', 'year': '2017', 'id': 13100},\n",
       " {'name': 'Brasileiro Serie A 2016', 'year': '2016', 'id': 11429},\n",
       " {'name': 'Brasilero Serie A 2015', 'year': '2015', 'id': 10173},\n",
       " {'name': 'Brasilero Serie A 2014', 'year': '2014', 'id': 7778},\n",
       " {'name': 'Brasilero Serie A 2013', 'year': '2013', 'id': 6075},\n",
       " {'name': 'Serie A 2012', 'year': '2012', 'id': 4438},\n",
       " {'name': 'Serie A 2011', 'year': '2011', 'id': 3311},\n",
       " {'name': 'Serie A 2010', 'year': '2010', 'id': 2684},\n",
       " {'name': 'Serie A 2009', 'year': '2009', 'id': 2079},\n",
       " {'name': 'Serie A 2008', 'year': '2008', 'id': 1223}]"
      ]
     },
     "execution_count": 63,
     "metadata": {},
     "output_type": "execute_result"
    }
   ],
   "source": [
    "season_ids"
   ]
  },
  {
   "cell_type": "code",
   "execution_count": 64,
   "metadata": {},
   "outputs": [],
   "source": [
    "json.dump(season_ids, open(\"IDs_Brasileirao_seasons.json\", 'w'))"
   ]
  },
  {
   "cell_type": "markdown",
   "metadata": {},
   "source": [
    "### Temporada"
   ]
  },
  {
   "cell_type": "code",
   "execution_count": 65,
   "metadata": {},
   "outputs": [],
   "source": [
    "temporadas = json.load(open(\"IDs_Brasileirao_seasons.json\", 'r'))"
   ]
  },
  {
   "cell_type": "code",
   "execution_count": 66,
   "metadata": {
    "ExecuteTime": {
     "end_time": "2019-01-03T00:55:08.620736Z",
     "start_time": "2019-01-03T00:55:08.417831Z"
    }
   },
   "outputs": [
    {
     "data": {
      "text/plain": [
       "{'2020': 27591,\n",
       " '2019': 22931,\n",
       " '2018': 16183,\n",
       " '2017': 13100,\n",
       " '2016': 11429,\n",
       " '2015': 10173,\n",
       " '2014': 7778,\n",
       " '2013': 6075,\n",
       " '2012': 4438,\n",
       " '2011': 3311,\n",
       " '2010': 2684,\n",
       " '2009': 2079,\n",
       " '2008': 1223}"
      ]
     },
     "execution_count": 66,
     "metadata": {},
     "output_type": "execute_result"
    }
   ],
   "source": [
    "# temporadas = c.find_all(\"a\", attrs={\"class\":\"pointer js-uniqueTournament-page-load-season\"})\n",
    "\n",
    "id_temporada = {a['year']: a['id'] for a in temporadas}\n",
    "id_temporada"
   ]
  },
  {
   "cell_type": "code",
   "execution_count": 67,
   "metadata": {},
   "outputs": [],
   "source": [
    "r = resp.json()"
   ]
  },
  {
   "cell_type": "code",
   "execution_count": 68,
   "metadata": {},
   "outputs": [],
   "source": [
    "r = bs4.BeautifulSoup(resp.text)"
   ]
  },
  {
   "cell_type": "markdown",
   "metadata": {},
   "source": [
    "## Pega Links dos jogos por Rodadas"
   ]
  },
  {
   "cell_type": "markdown",
   "metadata": {},
   "source": [
    "#### Página Inicial"
   ]
  },
  {
   "cell_type": "code",
   "execution_count": 70,
   "metadata": {},
   "outputs": [],
   "source": [
    "comp = requests.get(\"https://www.sofascore.com/pt/torneio/futebol/brazil/brasileiro-serie-a/325\", headers=headers)\n",
    "# comp = requests.get(\"https://www.sofascore.com/pt/torneio/futebol/england/premier-league/17\", headers=headers)\n",
    "# comp = requests.get(\"https://www.sofascore.com/pt/torneio/futebol/spain/laliga/8\", headers=headers)\n",
    "# comp = requests.get(\"https://www.sofascore.com/pt/torneio/futebol/germany/bundesliga/35\", headers=headers)\n",
    "# comp = requests.get(\"https://www.sofascore.com/pt/torneio/futebol/italy/serie-a/23\", headers=headers)"
   ]
  },
  {
   "cell_type": "code",
   "execution_count": 71,
   "metadata": {
    "ExecuteTime": {
     "end_time": "2019-01-08T00:14:36.515462Z",
     "start_time": "2019-01-08T00:13:53.577168Z"
    }
   },
   "outputs": [
    {
     "data": {
      "text/plain": [
       "<Response [200]>"
      ]
     },
     "execution_count": 71,
     "metadata": {},
     "output_type": "execute_result"
    }
   ],
   "source": [
    "s = requests.Session()\n",
    "s.get(comp.url, headers=headers)"
   ]
  },
  {
   "cell_type": "markdown",
   "metadata": {},
   "source": [
    "#### Para cada temporada"
   ]
  },
  {
   "cell_type": "code",
   "execution_count": 76,
   "metadata": {
    "ExecuteTime": {
     "end_time": "2019-01-08T00:38:13.703682Z",
     "start_time": "2019-01-08T00:34:58.452476Z"
    },
    "scrolled": true
   },
   "outputs": [
    {
     "data": {
      "application/vnd.jupyter.widget-view+json": {
       "model_id": "998a8a40d84046b9b72863a0009633a0",
       "version_major": 2,
       "version_minor": 0
      },
      "text/plain": [
       "HBox(children=(IntProgress(value=0, max=38), HTML(value='')))"
      ]
     },
     "metadata": {},
     "output_type": "display_data"
    },
    {
     "name": "stdout",
     "output_type": "stream",
     "text": [
      "\n"
     ]
    },
    {
     "data": {
      "application/vnd.jupyter.widget-view+json": {
       "model_id": "b702644bf5734d34b0b3f0aac7ed8243",
       "version_major": 2,
       "version_minor": 0
      },
      "text/plain": [
       "HBox(children=(IntProgress(value=0, max=38), HTML(value='')))"
      ]
     },
     "metadata": {},
     "output_type": "display_data"
    },
    {
     "name": "stdout",
     "output_type": "stream",
     "text": [
      "\n"
     ]
    },
    {
     "data": {
      "application/vnd.jupyter.widget-view+json": {
       "model_id": "e3b6bcf0d12c4156bad9c70388cb8563",
       "version_major": 2,
       "version_minor": 0
      },
      "text/plain": [
       "HBox(children=(IntProgress(value=0, max=38), HTML(value='')))"
      ]
     },
     "metadata": {},
     "output_type": "display_data"
    },
    {
     "name": "stdout",
     "output_type": "stream",
     "text": [
      "\n"
     ]
    },
    {
     "data": {
      "application/vnd.jupyter.widget-view+json": {
       "model_id": "0b2caac33e6b4c9f81eb57d565afe073",
       "version_major": 2,
       "version_minor": 0
      },
      "text/plain": [
       "HBox(children=(IntProgress(value=0, max=38), HTML(value='')))"
      ]
     },
     "metadata": {},
     "output_type": "display_data"
    },
    {
     "name": "stdout",
     "output_type": "stream",
     "text": [
      "\n"
     ]
    },
    {
     "data": {
      "application/vnd.jupyter.widget-view+json": {
       "model_id": "cc5f074c5cec4962b750033c5dedd910",
       "version_major": 2,
       "version_minor": 0
      },
      "text/plain": [
       "HBox(children=(IntProgress(value=0, max=38), HTML(value='')))"
      ]
     },
     "metadata": {},
     "output_type": "display_data"
    },
    {
     "name": "stdout",
     "output_type": "stream",
     "text": [
      "\n"
     ]
    },
    {
     "data": {
      "application/vnd.jupyter.widget-view+json": {
       "model_id": "acfc838e4820426caa2a6c2a3a0098a5",
       "version_major": 2,
       "version_minor": 0
      },
      "text/plain": [
       "HBox(children=(IntProgress(value=0, max=38), HTML(value='')))"
      ]
     },
     "metadata": {},
     "output_type": "display_data"
    },
    {
     "name": "stdout",
     "output_type": "stream",
     "text": [
      "\n"
     ]
    },
    {
     "data": {
      "application/vnd.jupyter.widget-view+json": {
       "model_id": "f47d80c40ab443408faab26e134f89b6",
       "version_major": 2,
       "version_minor": 0
      },
      "text/plain": [
       "HBox(children=(IntProgress(value=0, max=38), HTML(value='')))"
      ]
     },
     "metadata": {},
     "output_type": "display_data"
    },
    {
     "name": "stdout",
     "output_type": "stream",
     "text": [
      "\n"
     ]
    },
    {
     "data": {
      "application/vnd.jupyter.widget-view+json": {
       "model_id": "5a4cae4dad124f769d24195bffd0f48e",
       "version_major": 2,
       "version_minor": 0
      },
      "text/plain": [
       "HBox(children=(IntProgress(value=0, max=38), HTML(value='')))"
      ]
     },
     "metadata": {},
     "output_type": "display_data"
    },
    {
     "name": "stdout",
     "output_type": "stream",
     "text": [
      "\n"
     ]
    },
    {
     "data": {
      "application/vnd.jupyter.widget-view+json": {
       "model_id": "32bb0689b4df45028270d4325900c800",
       "version_major": 2,
       "version_minor": 0
      },
      "text/plain": [
       "HBox(children=(IntProgress(value=0, max=38), HTML(value='')))"
      ]
     },
     "metadata": {},
     "output_type": "display_data"
    },
    {
     "name": "stdout",
     "output_type": "stream",
     "text": [
      "\n"
     ]
    },
    {
     "data": {
      "application/vnd.jupyter.widget-view+json": {
       "model_id": "0a4f5868e21042188f34feafbc6aaa4c",
       "version_major": 2,
       "version_minor": 0
      },
      "text/plain": [
       "HBox(children=(IntProgress(value=0, max=38), HTML(value='')))"
      ]
     },
     "metadata": {},
     "output_type": "display_data"
    },
    {
     "name": "stdout",
     "output_type": "stream",
     "text": [
      "\n"
     ]
    },
    {
     "data": {
      "application/vnd.jupyter.widget-view+json": {
       "model_id": "72f6ea454d7e4aa78054216f326644a3",
       "version_major": 2,
       "version_minor": 0
      },
      "text/plain": [
       "HBox(children=(IntProgress(value=0, max=38), HTML(value='')))"
      ]
     },
     "metadata": {},
     "output_type": "display_data"
    },
    {
     "name": "stdout",
     "output_type": "stream",
     "text": [
      "\n"
     ]
    },
    {
     "data": {
      "application/vnd.jupyter.widget-view+json": {
       "model_id": "a42e14db5be24dbc9213f1cec8500661",
       "version_major": 2,
       "version_minor": 0
      },
      "text/plain": [
       "HBox(children=(IntProgress(value=0, max=38), HTML(value='')))"
      ]
     },
     "metadata": {},
     "output_type": "display_data"
    },
    {
     "name": "stdout",
     "output_type": "stream",
     "text": [
      "\n"
     ]
    }
   ],
   "source": [
    "de_para_siglas = pd.read_excel(\"de_para_siglas_br.xlsx\")\n",
    "de_para_siglas[\"time\"] = de_para_siglas[\"time\"].astype(str)\n",
    "de_para_siglas[\"time\"] = de_para_siglas[\"time\"].apply(str.strip)\n",
    "de_para_siglas.set_index(\"time\", inplace=True)\n",
    "\n",
    "for temp in list(id_temporada.keys())[1:]:\n",
    "    ret = []\n",
    "    \n",
    "    for rodada in tqdm_notebook(range(1, 39)):\n",
    "        # print(temp[0] + \": \" + str(rodada), end=\"\\r\")\n",
    "        resp = s.get(\"https://www.sofascore.com/u-tournament/325/season/\"+ str(id_temporada[temp]) + \"/matches/round/\" + str(rodada), headers=headers)\n",
    "        resp.encoding = 'UTF-8'\n",
    "        ret.append(get_info_rodada(resp, de_para_siglas))\n",
    "    \n",
    "    ret = pd.concat(ret)\n",
    "    ret.to_csv(\"links_sofa_score/sofa_score_links_BR_\"+temp.replace(\"/\", \"_\")+\".csv\", sep=\";\")"
   ]
  },
  {
   "cell_type": "markdown",
   "metadata": {},
   "source": [
    "### Pega informações dos jogos históricos"
   ]
  },
  {
   "cell_type": "code",
   "execution_count": 2,
   "metadata": {
    "ExecuteTime": {
     "end_time": "2019-01-08T00:40:13.317902Z",
     "start_time": "2019-01-08T00:40:13.115990Z"
    }
   },
   "outputs": [],
   "source": [
    "base = pd.read_csv(\"links_sofa_score/sofa_score_links_EPL_18_19.csv\", sep=\";\")"
   ]
  },
  {
   "cell_type": "code",
   "execution_count": 6,
   "metadata": {
    "ExecuteTime": {
     "end_time": "2019-01-08T23:44:25.266002Z",
     "start_time": "2019-01-08T23:44:25.077112Z"
    }
   },
   "outputs": [
    {
     "data": {
      "text/plain": [
       "['sofa_score_links_GER_19_20.csv',\n",
       " 'sofa_score_links_GER_18_19.csv',\n",
       " 'sofa_score_links_GER_17_18.csv',\n",
       " 'sofa_score_links_GER_16_17.csv',\n",
       " 'sofa_score_links_GER_15_16.csv',\n",
       " 'sofa_score_links_GER_14_15.csv',\n",
       " 'sofa_score_links_GER_13_14.csv',\n",
       " 'sofa_score_links_GER_12_13.csv',\n",
       " 'sofa_score_links_GER_10_11.csv',\n",
       " 'sofa_score_links_GER_09_10.csv',\n",
       " 'sofa_score_links_GER_08_09.csv',\n",
       " 'sofa_score_links_GER_07_08.csv',\n",
       " 'sofa_score_links_GER_06_07.csv',\n",
       " 'sofa_score_links_GER_05_06.csv',\n",
       " 'sofa_score_links_GER_04_05.csv',\n",
       " 'sofa_score_links_GER_03_04.csv']"
      ]
     },
     "execution_count": 6,
     "metadata": {},
     "output_type": "execute_result"
    }
   ],
   "source": [
    "list(reversed(sorted([x for x in os.listdir(\"links_sofa_score/\") if 'GER' in x])))"
   ]
  },
  {
   "cell_type": "code",
   "execution_count": 7,
   "metadata": {},
   "outputs": [],
   "source": [
    "API_HEADERS = {\n",
    "    'accept': '*/*',\n",
    "    'accept-language': 'pt-BR,pt;q=0.9,en-US;q=0.8,en;q=0.7',\n",
    "    'cache-control': 'max-age=0',\n",
    "    'if-none-match': 'W/\"8b4895fbff\"',\n",
    "    'origin': 'https://www.sofascore.com',\n",
    "    # 'referer': 'https://www.sofascore.com/pt/chelsea-manchester-city/rN'\n",
    "    'sec-fetch-dest': 'empty',\n",
    "    'sec-fetch-mode': 'cors',\n",
    "    'sec-fetch-site': 'same-site',\n",
    "    'user-agent': 'Mozilla/5.0 (Windows NT 10.0; Win64; x64) AppleWebKit/537.36 (KHTML, like Gecko) Chrome/83.0.4103.106 Safari/537.36'\n",
    "}"
   ]
  },
  {
   "cell_type": "code",
   "execution_count": 29,
   "metadata": {},
   "outputs": [],
   "source": [
    "prefix = 'BR'\n",
    "lista = list(reversed(sorted([x for x in os.listdir(\"links_sofa_score/\") if prefix in x])))"
   ]
  },
  {
   "cell_type": "code",
   "execution_count": 28,
   "metadata": {},
   "outputs": [
    {
     "data": {
      "text/plain": [
       "<Response [200]>"
      ]
     },
     "execution_count": 28,
     "metadata": {},
     "output_type": "execute_result"
    }
   ],
   "source": [
    "s = requests.Session()\n",
    "s.get(\"https://www.sofascore.com/pt/torneio/futebol/brazil/brasileiro-serie-a/325\", headers=headers)"
   ]
  },
  {
   "cell_type": "code",
   "execution_count": 51,
   "metadata": {},
   "outputs": [
    {
     "data": {
      "text/plain": [
       "game                                       GRE X PON 10-05-2015\n",
       "fixture                                                       1\n",
       "id                                                      6696477\n",
       "team_home                                                   GRE\n",
       "team_away                                                   PON\n",
       "date                                                 10-05-2015\n",
       "link          https://www.sofascore.com/pt/gremio-ponte-pret...\n",
       "home_score                                                    3\n",
       "away_score                                                    3\n",
       "Name: 3, dtype: object"
      ]
     },
     "execution_count": 51,
     "metadata": {},
     "output_type": "execute_result"
    }
   ],
   "source": [
    "base.iloc[game_id]"
   ]
  },
  {
   "cell_type": "code",
   "execution_count": 54,
   "metadata": {},
   "outputs": [
    {
     "data": {
      "text/plain": [
       "dict_keys(['incidents', 'groupedIncidents', 'innings', 'vote', 'highlights', 'statistics', 'liveForm', 'scoreGraph', 'pointByPoint'])"
      ]
     },
     "execution_count": 54,
     "metadata": {},
     "output_type": "execute_result"
    }
   ],
   "source": [
    "resp.json().keys()"
   ]
  },
  {
   "cell_type": "code",
   "execution_count": 56,
   "metadata": {},
   "outputs": [
    {
     "data": {
      "text/plain": [
       "{'error': {'code': 404, 'message': 'Not found'}}"
      ]
     },
     "execution_count": 56,
     "metadata": {},
     "output_type": "execute_result"
    }
   ],
   "source": [
    "resp2.json()"
   ]
  },
  {
   "cell_type": "code",
   "execution_count": 57,
   "metadata": {},
   "outputs": [
    {
     "data": {
      "text/plain": [
       "'https://www.sofascore.com/event/6696477/statistics/players/json'"
      ]
     },
     "execution_count": 57,
     "metadata": {},
     "output_type": "execute_result"
    }
   ],
   "source": [
    "\"https://www.sofascore.com/event/\" + str(base.id.iloc[game_id]) + \"/statistics/players/json\""
   ]
  },
  {
   "cell_type": "code",
   "execution_count": 89,
   "metadata": {
    "ExecuteTime": {
     "end_time": "2019-01-08T23:46:21.087855Z",
     "start_time": "2019-01-08T23:45:24.006948Z"
    }
   },
   "outputs": [
    {
     "name": "stdout",
     "output_type": "stream",
     "text": [
      "Guardando dados capturados...\n",
      "Com sucesso!\n",
      "\n",
      "BR_2014 Game #46\r"
     ]
    },
    {
     "ename": "KeyError",
     "evalue": "'incidents'",
     "output_type": "error",
     "traceback": [
      "\u001b[1;31m---------------------------------------------------------------------------\u001b[0m",
      "\u001b[1;31mKeyError\u001b[0m                                  Traceback (most recent call last)",
      "\u001b[1;32m<ipython-input-89-8b00ade802ff>\u001b[0m in \u001b[0;36m<module>\u001b[1;34m\u001b[0m\n\u001b[0;32m     81\u001b[0m \u001b[1;33m\u001b[0m\u001b[0m\n\u001b[0;32m     82\u001b[0m                 \u001b[1;31m### Guarda Incidents\u001b[0m\u001b[1;33m\u001b[0m\u001b[1;33m\u001b[0m\u001b[1;33m\u001b[0m\u001b[0m\n\u001b[1;32m---> 83\u001b[1;33m                 \u001b[0mincidents_df\u001b[0m \u001b[1;33m=\u001b[0m \u001b[0mget_incidents_database\u001b[0m\u001b[1;33m(\u001b[0m\u001b[0mresp_incidents\u001b[0m\u001b[1;33m)\u001b[0m\u001b[1;33m\u001b[0m\u001b[1;33m\u001b[0m\u001b[0m\n\u001b[0m\u001b[0;32m     84\u001b[0m                 \u001b[1;32mfor\u001b[0m \u001b[0mkey\u001b[0m \u001b[1;32min\u001b[0m \u001b[0mincidents_df\u001b[0m\u001b[1;33m:\u001b[0m\u001b[1;33m\u001b[0m\u001b[1;33m\u001b[0m\u001b[0m\n\u001b[0;32m     85\u001b[0m                     \u001b[1;31m# Adiciona coluna \"GAME\" para index\u001b[0m\u001b[1;33m\u001b[0m\u001b[1;33m\u001b[0m\u001b[1;33m\u001b[0m\u001b[0m\n",
      "\u001b[1;32m~\\Google Drive\\Projetos\\SofaScore\\sofa_score_scrap.py\u001b[0m in \u001b[0;36mget_incidents_database\u001b[1;34m(resp_incidents, types)\u001b[0m\n\u001b[0;32m    185\u001b[0m     \u001b[0mincidents_per_type\u001b[0m \u001b[1;33m=\u001b[0m \u001b[1;33m{\u001b[0m\u001b[1;33m}\u001b[0m\u001b[1;33m\u001b[0m\u001b[1;33m\u001b[0m\u001b[0m\n\u001b[0;32m    186\u001b[0m \u001b[1;33m\u001b[0m\u001b[0m\n\u001b[1;32m--> 187\u001b[1;33m     \u001b[1;32mfor\u001b[0m \u001b[0mel\u001b[0m \u001b[1;32min\u001b[0m \u001b[0mresp_incidents\u001b[0m\u001b[1;33m.\u001b[0m\u001b[0mjson\u001b[0m\u001b[1;33m(\u001b[0m\u001b[1;33m)\u001b[0m\u001b[1;33m[\u001b[0m\u001b[1;34m\"incidents\"\u001b[0m\u001b[1;33m]\u001b[0m\u001b[1;33m:\u001b[0m\u001b[1;33m\u001b[0m\u001b[1;33m\u001b[0m\u001b[0m\n\u001b[0m\u001b[0;32m    188\u001b[0m         \u001b[1;32mif\u001b[0m \u001b[0mel\u001b[0m\u001b[1;33m[\u001b[0m\u001b[1;34m'incidentType'\u001b[0m\u001b[1;33m]\u001b[0m \u001b[1;32min\u001b[0m \u001b[0mtypes\u001b[0m\u001b[1;33m:\u001b[0m\u001b[1;33m\u001b[0m\u001b[1;33m\u001b[0m\u001b[0m\n\u001b[0;32m    189\u001b[0m             \u001b[1;32mif\u001b[0m \u001b[1;32mnot\u001b[0m \u001b[0mel\u001b[0m\u001b[1;33m[\u001b[0m\u001b[1;34m'incidentType'\u001b[0m\u001b[1;33m]\u001b[0m \u001b[1;32min\u001b[0m \u001b[0mincidents_per_type\u001b[0m\u001b[1;33m:\u001b[0m\u001b[1;33m\u001b[0m\u001b[1;33m\u001b[0m\u001b[0m\n",
      "\u001b[1;31mKeyError\u001b[0m: 'incidents'"
     ]
    }
   ],
   "source": [
    "de_para_siglas = pd.read_excel(\"de_para_siglas_br.xlsx\")\n",
    "de_para_siglas[\"time\"] = de_para_siglas[\"time\"].astype(str)\n",
    "de_para_siglas[\"time\"] = de_para_siglas[\"time\"].apply(str.strip)\n",
    "de_para_siglas.set_index(\"time\", inplace=True)\n",
    "\n",
    "erros = []\n",
    "\n",
    "for file in lista[4:]:\n",
    "    base = pd.read_csv(\"links_sofa_score/\" + file, sep=\";\")\n",
    "    \n",
    "    base[(base.home_score != -1) & (base.away_score != -1)]\n",
    "    \n",
    "#     resp_game = []\n",
    "#     resp_players = []\n",
    "#     resp_incidents_df = {}\n",
    "#     for key in ['period', 'substitution', 'injuryTime', 'goal', 'card', 'varDecision']:\n",
    "#         resp_incidents_df[key] = []\n",
    "        \n",
    "#     game_id = 0\n",
    "    \n",
    "    name = file[-11:-4]\n",
    "    # name = file[-13:-4]\n",
    "    \n",
    "    tentativas = 3\n",
    "    while(tentativas > 0):\n",
    "        try:\n",
    "            while (game_id < len(base.id)):\n",
    "                print(name + \" Game #\" + str(game_id), end=\"\\r\")\n",
    "                \n",
    "                API_HEADERS['referer'] = base.link.iloc[game_id]\n",
    "                \n",
    "                # # # # # # # # #\n",
    "                # DADOS DO JOGO #\n",
    "                # # # # # # # # #\n",
    "                resp = s.get(\"https://www.sofascore.com/event/\" + str(base.id.iloc[game_id]) + \"/general/json\",\n",
    "                             headers=API_HEADERS, timeout=10)\n",
    "\n",
    "                # # # # # # # # # # #\n",
    "                # DADOS POR JOGADOR #\n",
    "                # # # # # # # # # # #\n",
    "                resp2 = s.get(\"https://www.sofascore.com/event/\" + str(base.id.iloc[game_id]) + \"/statistics/players/json\",\n",
    "                              headers=API_HEADERS, timeout=10)\n",
    "                resp2.encoding = 'UTF-8'\n",
    "                \n",
    "                # # # # # # #\n",
    "                # INCIDENTS #\n",
    "                # # # # # # #\n",
    "                resp_incidents = s.get('https://api.sofascore.com/api/v1/event/'+ str(base.id.iloc[game_id]) +'/incidents',\n",
    "                                      headers=API_HEADERS, timeout=10)\n",
    "                resp_incidents.encoding = 'UTF-8'\n",
    "                \n",
    "                \n",
    "                # time.sleep(np.random.choice([2, 3, 4, 5]))\n",
    "                time.sleep(np.random.choice([0.01, 0.1, 0.5]))\n",
    "                \n",
    "                if \"Statistics not found.\" in str(resp2.content):\n",
    "                    erros.append(base.id.iloc[game_id])\n",
    "                    tentativas = 0\n",
    "                    game_id += 1\n",
    "                    continue\n",
    "                    \n",
    "                try:\n",
    "                    players_df = pd.DataFrame(resp2.json()[\"players\"])  \n",
    "                except KeyError:\n",
    "                    players_df = None\n",
    "                    pass\n",
    "        \n",
    "                ### Guarda estatisticas do jogo\n",
    "                game_df = pd.DataFrame(game_statistics(resp, players_df, de_para_siglas), index=[0])\n",
    "                game_df['game'] = base.game.iloc[game_id]\n",
    "                resp_game.append(\n",
    "                    game_df.set_index(\"game\")\n",
    "                )\n",
    "                \n",
    "                ### Guarda statisticas dos jogadores\n",
    "                if players_df is not None and not players_df.empty:\n",
    "                    per_player_data_df = get_per_player_data(players_df, de_para_siglas)\n",
    "                    per_player_data_df['game'] = base.game.iloc[game_id]\n",
    "                    resp_players.append(per_player_data_df.set_index(\"game\")) \n",
    "                \n",
    "                \n",
    "                ### Guarda Incidents \n",
    "                incidents_df = get_incidents_database(resp_incidents)\n",
    "                for key in incidents_df:\n",
    "                    # Adiciona coluna \"GAME\" para index\n",
    "                    incidents_df[key]['game'] = base.game.iloc[game_id]\n",
    "                    incidents_df[key].set_index('game', inplace=True)\n",
    "                    \n",
    "                    resp_incidents_df[key].append(\n",
    "                        incidents_df[key].copy()\n",
    "                    )\n",
    "                \n",
    "                tentativas = 0\n",
    "                game_id += 1\n",
    "        except (ConnectionError, ProtocolError, RemoteDisconnected):\n",
    "            print(\"Error\")\n",
    "            time.sleep(2)\n",
    "            tentativas -= 1\n",
    "\n",
    "    print(\"Guardando dados capturados...\")\n",
    "    \n",
    "    try:\n",
    "        os.makedirs(prefix + \"_data_sofa_score/\" + name + \"/\")\n",
    "    except:\n",
    "        pass\n",
    "    \n",
    "    ret_game = pd.concat(resp_game)\n",
    "    ret_game.drop_duplicates().to_csv(prefix + \"_data_sofa_score/\" + name + \"/game_data_\"+ name +\".csv\", sep=\";\")\n",
    "\n",
    "    ret_players = pd.concat(resp_players)\n",
    "    ret_players.drop_duplicates().to_csv(prefix + \"_data_sofa_score/\" + name + \"/players_data_\"+ name +\".csv\", sep=\";\")\n",
    "\n",
    "    for key in resp_incidents_df:\n",
    "        if len(resp_incidents_df[key]) > 0:\n",
    "            resp_incidents_concat = pd.concat(resp_incidents_df[key])\n",
    "            try:\n",
    "                resp_incidents_concat = resp_incidents_concat.drop_duplicates()\n",
    "            except: \n",
    "                pass\n",
    "            resp_incidents_concat.to_csv(prefix + \"_data_sofa_score/\" + name + \"/incidents_\" + key + \"_data_\" + name + \".csv\", sep=';')\n",
    "    \n",
    "    print(\"Com sucesso!\")\n",
    "    print()\n",
    "    \n",
    "    resp_game = []\n",
    "    resp_players = []\n",
    "    resp_incidents_df = {}\n",
    "    for key in ['period', 'substitution', 'injuryTime', 'goal', 'card', 'varDecision']:\n",
    "        resp_incidents_df[key] = []\n",
    "        \n",
    "    game_id = 0"
   ]
  },
  {
   "cell_type": "code",
   "execution_count": null,
   "metadata": {},
   "outputs": [],
   "source": []
  }
 ],
 "metadata": {
  "kernelspec": {
   "display_name": "Python 3",
   "language": "python",
   "name": "python3"
  },
  "language_info": {
   "codemirror_mode": {
    "name": "ipython",
    "version": 3
   },
   "file_extension": ".py",
   "mimetype": "text/x-python",
   "name": "python",
   "nbconvert_exporter": "python",
   "pygments_lexer": "ipython3",
   "version": "3.7.3"
  },
  "toc": {
   "base_numbering": 1,
   "nav_menu": {},
   "number_sections": true,
   "sideBar": true,
   "skip_h1_title": false,
   "title_cell": "Table of Contents",
   "title_sidebar": "Contents",
   "toc_cell": false,
   "toc_position": {},
   "toc_section_display": true,
   "toc_window_display": false
  }
 },
 "nbformat": 4,
 "nbformat_minor": 2
}
